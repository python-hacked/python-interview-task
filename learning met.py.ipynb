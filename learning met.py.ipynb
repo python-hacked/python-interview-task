{
 "cells": [
  {
   "cell_type": "code",
   "execution_count": 1,
   "id": "ab35808d",
   "metadata": {},
   "outputs": [
    {
     "name": "stdout",
     "output_type": "stream",
     "text": [
      "10\n",
      "20\n",
      "30\n",
      "40\n",
      "50\n",
      "60\n",
      "70\n",
      "80\n",
      "90\n",
      "100\n"
     ]
    }
   ],
   "source": [
    "num = 10\n",
    "for i in range(1,11):\n",
    "#     print(num,'x','i','=',num*i)\n",
    "        print(num*i)"
   ]
  },
  {
   "cell_type": "code",
   "execution_count": 9,
   "id": "4f1ed984",
   "metadata": {},
   "outputs": [
    {
     "name": "stdout",
     "output_type": "stream",
     "text": [
      "Enter the number: 10\n",
      "10 X 1 = 10\n",
      "10 X 2 = 20\n",
      "10 X 3 = 30\n",
      "10 X 4 = 40\n",
      "10 X 5 = 50\n",
      "10 X 6 = 60\n",
      "10 X 7 = 70\n",
      "10 X 8 = 80\n",
      "10 X 9 = 90\n",
      "10 X 10 = 100\n"
     ]
    }
   ],
   "source": [
    "num = int(input(\"Enter the number: \"))\n",
    "\n",
    "# print(\"Multiplication Table of\", num)\n",
    "for i in range(1, 11):\n",
    "   print(num,\"X\",i,\"=\",num * i)"
   ]
  },
  {
   "cell_type": "code",
   "execution_count": 1,
   "id": "8d68ccef",
   "metadata": {},
   "outputs": [],
   "source": [
    "l1 = [1,2,3,4,5]"
   ]
  },
  {
   "cell_type": "code",
   "execution_count": 2,
   "id": "761ed34b",
   "metadata": {},
   "outputs": [
    {
     "name": "stdout",
     "output_type": "stream",
     "text": [
      "[1, 2, 3, 4, 5]\n"
     ]
    }
   ],
   "source": [
    "print(l1)"
   ]
  },
  {
   "cell_type": "code",
   "execution_count": 3,
   "id": "86449685",
   "metadata": {},
   "outputs": [
    {
     "data": {
      "text/plain": [
       "list"
      ]
     },
     "execution_count": 3,
     "metadata": {},
     "output_type": "execute_result"
    }
   ],
   "source": [
    "type(l1)"
   ]
  },
  {
   "cell_type": "code",
   "execution_count": 7,
   "id": "ae4871da",
   "metadata": {},
   "outputs": [],
   "source": [
    "a = 1,2,3,4,5"
   ]
  },
  {
   "cell_type": "code",
   "execution_count": 8,
   "id": "57063ca7",
   "metadata": {},
   "outputs": [
    {
     "name": "stdout",
     "output_type": "stream",
     "text": [
      "(1, 2, 3, 4, 5)\n"
     ]
    }
   ],
   "source": [
    "print(a)"
   ]
  },
  {
   "cell_type": "code",
   "execution_count": 9,
   "id": "829e82ed",
   "metadata": {},
   "outputs": [
    {
     "data": {
      "text/plain": [
       "tuple"
      ]
     },
     "execution_count": 9,
     "metadata": {},
     "output_type": "execute_result"
    }
   ],
   "source": [
    "type(a)"
   ]
  },
  {
   "cell_type": "code",
   "execution_count": 10,
   "id": "1e2bd552",
   "metadata": {},
   "outputs": [],
   "source": [
    "a = \"hellow world\""
   ]
  },
  {
   "cell_type": "code",
   "execution_count": 11,
   "id": "50b28a18",
   "metadata": {},
   "outputs": [
    {
     "name": "stdout",
     "output_type": "stream",
     "text": [
      "hellow world\n"
     ]
    }
   ],
   "source": [
    "print(a)"
   ]
  },
  {
   "cell_type": "code",
   "execution_count": 12,
   "id": "d2f2bcdf",
   "metadata": {},
   "outputs": [
    {
     "data": {
      "text/plain": [
       "str"
      ]
     },
     "execution_count": 12,
     "metadata": {},
     "output_type": "execute_result"
    }
   ],
   "source": [
    "type(a)"
   ]
  },
  {
   "cell_type": "code",
   "execution_count": 9,
   "id": "ba5e66d9",
   "metadata": {},
   "outputs": [],
   "source": [
    "s1 = {1,1,2,3,4,5}"
   ]
  },
  {
   "cell_type": "code",
   "execution_count": 10,
   "id": "50698863",
   "metadata": {},
   "outputs": [
    {
     "name": "stdout",
     "output_type": "stream",
     "text": [
      "{1, 2, 3, 4, 5}\n"
     ]
    }
   ],
   "source": [
    "print(s1)"
   ]
  },
  {
   "cell_type": "code",
   "execution_count": 15,
   "id": "bf177520",
   "metadata": {},
   "outputs": [
    {
     "data": {
      "text/plain": [
       "set"
      ]
     },
     "execution_count": 15,
     "metadata": {},
     "output_type": "execute_result"
    }
   ],
   "source": [
    "type(s1)"
   ]
  },
  {
   "cell_type": "code",
   "execution_count": 20,
   "id": "d0e4389d",
   "metadata": {},
   "outputs": [],
   "source": [
    "dec = {\"apple\":200}"
   ]
  },
  {
   "cell_type": "code",
   "execution_count": 21,
   "id": "e996d5e3",
   "metadata": {},
   "outputs": [
    {
     "name": "stdout",
     "output_type": "stream",
     "text": [
      "{'apple': 200}\n"
     ]
    }
   ],
   "source": [
    "print(dec)"
   ]
  },
  {
   "cell_type": "code",
   "execution_count": 22,
   "id": "6f959e85",
   "metadata": {},
   "outputs": [
    {
     "data": {
      "text/plain": [
       "dict"
      ]
     },
     "execution_count": 22,
     "metadata": {},
     "output_type": "execute_result"
    }
   ],
   "source": [
    "type(dec)"
   ]
  },
  {
   "cell_type": "code",
   "execution_count": 23,
   "id": "7b1ec591",
   "metadata": {},
   "outputs": [],
   "source": [
    "a =10.1"
   ]
  },
  {
   "cell_type": "code",
   "execution_count": 24,
   "id": "c01c3129",
   "metadata": {},
   "outputs": [
    {
     "name": "stdout",
     "output_type": "stream",
     "text": [
      "10.1\n"
     ]
    }
   ],
   "source": [
    "print(a)"
   ]
  },
  {
   "cell_type": "code",
   "execution_count": 25,
   "id": "5544ad33",
   "metadata": {},
   "outputs": [
    {
     "data": {
      "text/plain": [
       "float"
      ]
     },
     "execution_count": 25,
     "metadata": {},
     "output_type": "execute_result"
    }
   ],
   "source": [
    "type(a)"
   ]
  },
  {
   "cell_type": "code",
   "execution_count": 26,
   "id": "31bf540d",
   "metadata": {},
   "outputs": [],
   "source": [
    "p = 10"
   ]
  },
  {
   "cell_type": "code",
   "execution_count": 27,
   "id": "e799a5e4",
   "metadata": {},
   "outputs": [
    {
     "name": "stdout",
     "output_type": "stream",
     "text": [
      "10\n"
     ]
    }
   ],
   "source": [
    "print(p)"
   ]
  },
  {
   "cell_type": "code",
   "execution_count": 28,
   "id": "d80140f9",
   "metadata": {},
   "outputs": [
    {
     "data": {
      "text/plain": [
       "int"
      ]
     },
     "execution_count": 28,
     "metadata": {},
     "output_type": "execute_result"
    }
   ],
   "source": [
    "type(p)"
   ]
  },
  {
   "cell_type": "code",
   "execution_count": 2,
   "id": "7b1a62ff",
   "metadata": {},
   "outputs": [
    {
     "name": "stdout",
     "output_type": "stream",
     "text": [
      "[3, 11, 22, 40, 50]\n"
     ]
    }
   ],
   "source": [
    "list1 = [11,50,40,22,3]\n",
    "list1.sort()\n",
    "print(list1)\n"
   ]
  },
  {
   "cell_type": "code",
   "execution_count": 4,
   "id": "5129db89",
   "metadata": {},
   "outputs": [
    {
     "name": "stdout",
     "output_type": "stream",
     "text": [
      "[1, 2, 3, 4, 5]\n"
     ]
    }
   ],
   "source": [
    "list2 = [5,4,3,2,1]\n",
    "list2.sort()\n",
    "print(list2)"
   ]
  },
  {
   "cell_type": "code",
   "execution_count": 5,
   "id": "8e089180",
   "metadata": {},
   "outputs": [
    {
     "name": "stdout",
     "output_type": "stream",
     "text": [
      "[1, 2, 3, 4, 5]\n"
     ]
    }
   ],
   "source": [
    "list3 = [5,4,3,2,1]\n",
    "list3.reverse()\n",
    "print(list3)"
   ]
  },
  {
   "cell_type": "code",
   "execution_count": 15,
   "id": "24e28fed",
   "metadata": {},
   "outputs": [
    {
     "name": "stdout",
     "output_type": "stream",
     "text": [
      "[1, 2, 3, 4, 5]\n"
     ]
    }
   ],
   "source": [
    "list3 = [5,4,3,2,1]\n",
    "a =list3  [::-1]\n",
    "print(a)"
   ]
  },
  {
   "cell_type": "code",
   "execution_count": 7,
   "id": "19b26be1",
   "metadata": {},
   "outputs": [
    {
     "name": "stdout",
     "output_type": "stream",
     "text": [
      "4\n"
     ]
    }
   ],
   "source": [
    "l1 = [1,2,3,4,5,6]\n",
    "l2 = l1.pop(3)\n",
    "print(l2)"
   ]
  },
  {
   "cell_type": "code",
   "execution_count": 8,
   "id": "b1ae5e8f",
   "metadata": {},
   "outputs": [
    {
     "name": "stdout",
     "output_type": "stream",
     "text": [
      "['banana', 'orange', 'apple', 'mango']\n"
     ]
    }
   ],
   "source": [
    "lis = [\"banana\",\"orange\",\"apple\"]\n",
    "lis.append(\"mango\")\n",
    "print(lis)"
   ]
  },
  {
   "cell_type": "code",
   "execution_count": 18,
   "id": "31cf5078",
   "metadata": {},
   "outputs": [
    {
     "name": "stdout",
     "output_type": "stream",
     "text": [
      "[14, 50, 22, 145, 22, 36, 55, 88, 47, 85]\n"
     ]
    }
   ],
   "source": [
    "list1 = [14,50,22,145]\n",
    "list2 = [22,36,55,88,47,85]\n",
    "# list3 = []\n",
    "for x in list2:\n",
    "#     for j in list2:\n",
    "        list1.append(x)\n",
    "    \n",
    "print(list1)    \n",
    "    "
   ]
  },
  {
   "cell_type": "code",
   "execution_count": 10,
   "id": "2f338d99",
   "metadata": {},
   "outputs": [
    {
     "name": "stdout",
     "output_type": "stream",
     "text": [
      "[44, 85, 78, 96, 45, 25, 65, 89, 54]\n"
     ]
    }
   ],
   "source": [
    "l1 = [44,85,78,96,45]\n",
    "l2 = [25,65,89,54]\n",
    "l3  = l1+l2\n",
    "print(l3)"
   ]
  },
  {
   "cell_type": "code",
   "execution_count": 11,
   "id": "1d6ea62f",
   "metadata": {},
   "outputs": [
    {
     "name": "stdout",
     "output_type": "stream",
     "text": [
      "[]\n"
     ]
    }
   ],
   "source": [
    "lista = [\"a\",\"b\",\"c\",\"d\"]\n",
    "lista.clear()\n",
    "print(lista)"
   ]
  },
  {
   "cell_type": "code",
   "execution_count": 13,
   "id": "b2eaa639",
   "metadata": {},
   "outputs": [
    {
     "name": "stdout",
     "output_type": "stream",
     "text": [
      "1\n"
     ]
    }
   ],
   "source": [
    "lists = [\"anil\",\"ajit\",\"arun\"]\n",
    "a = lists.count(\"anil\")\n",
    "print(a)"
   ]
  },
  {
   "cell_type": "code",
   "execution_count": 15,
   "id": "732c79c7",
   "metadata": {},
   "outputs": [
    {
     "name": "stdout",
     "output_type": "stream",
     "text": [
      "4\n"
     ]
    }
   ],
   "source": [
    "list1 = [1,2,3,4,5,5,5,5,7,7,7,]\n",
    "li = list1.count(5)\n",
    "print(li)"
   ]
  },
  {
   "cell_type": "code",
   "execution_count": 17,
   "id": "ca46223c",
   "metadata": {},
   "outputs": [
    {
     "name": "stdout",
     "output_type": "stream",
     "text": [
      "['apple', 'bananas', 'mango', 'sohan', 'rohan', 'mohan']\n"
     ]
    }
   ],
   "source": [
    "a = [\"apple\",\"bananas\",\"mango\"]\n",
    "b = [\"sohan\",\"rohan\",\"mohan\"]\n",
    "a.extend(b)\n",
    "print(a)"
   ]
  },
  {
   "cell_type": "code",
   "execution_count": 18,
   "id": "0b2b14e2",
   "metadata": {},
   "outputs": [
    {
     "name": "stdout",
     "output_type": "stream",
     "text": [
      "0\n"
     ]
    }
   ],
   "source": [
    "list = [\"apple\",\"bananas\",\"mango\"]\n",
    "a = list.index(\"apple\")\n",
    "print(a)"
   ]
  },
  {
   "cell_type": "code",
   "execution_count": 19,
   "id": "bec6f473",
   "metadata": {},
   "outputs": [
    {
     "name": "stdout",
     "output_type": "stream",
     "text": [
      "['apple', 'omprakesh', 'bananas', 'mango']\n"
     ]
    }
   ],
   "source": [
    "list1 = [\"apple\",\"bananas\",\"mango\"]\n",
    "list1.insert(1,\"omprakesh\")\n",
    "print(list1)"
   ]
  },
  {
   "cell_type": "code",
   "execution_count": 20,
   "id": "6068963c",
   "metadata": {},
   "outputs": [
    {
     "name": "stdout",
     "output_type": "stream",
     "text": [
      "apple\n",
      "banana\n",
      "mango\n"
     ]
    }
   ],
   "source": [
    "list1 = [\"apple\",\"banana\",\"mango\"]\n",
    "for i in range(len(list1)):\n",
    "    print(list1[i])"
   ]
  },
  {
   "cell_type": "code",
   "execution_count": 21,
   "id": "55e6ab84",
   "metadata": {},
   "outputs": [
    {
     "name": "stdout",
     "output_type": "stream",
     "text": [
      "3\n"
     ]
    }
   ],
   "source": [
    "list1 = [\"apple\",\"banana\",\"mango\"]\n",
    "a = len(list1)\n",
    "print(a)"
   ]
  },
  {
   "cell_type": "markdown",
   "id": "3daa6ebd",
   "metadata": {},
   "source": [
    "# string"
   ]
  },
  {
   "cell_type": "code",
   "execution_count": 2,
   "id": "ddac6dc7",
   "metadata": {},
   "outputs": [
    {
     "name": "stdout",
     "output_type": "stream",
     "text": [
      "Hellow, world\n"
     ]
    }
   ],
   "source": [
    "str1 = \"hellow, world\"\n",
    "a = str1.capitalize()\n",
    "print(a)"
   ]
  },
  {
   "cell_type": "code",
   "execution_count": 6,
   "id": "fefde970",
   "metadata": {},
   "outputs": [
    {
     "name": "stdout",
     "output_type": "stream",
     "text": [
      "this is my string\n"
     ]
    }
   ],
   "source": [
    "a = \"THIS IS MY STRING\"\n",
    "x = a.casefold()\n",
    "print(x)       "
   ]
  },
  {
   "cell_type": "code",
   "execution_count": 7,
   "id": "94bafccc",
   "metadata": {},
   "outputs": [
    {
     "name": "stdout",
     "output_type": "stream",
     "text": [
      "       string       \n"
     ]
    }
   ],
   "source": [
    "str1 = \"string\"\n",
    "str = str1.center(20)\n",
    "print(str)"
   ]
  },
  {
   "cell_type": "code",
   "execution_count": 8,
   "id": "d86c51a2",
   "metadata": {},
   "outputs": [
    {
     "name": "stdout",
     "output_type": "stream",
     "text": [
      "w\n"
     ]
    }
   ],
   "source": [
    "str2 = \"hellow world\"\n",
    "print(str2[5])"
   ]
  },
  {
   "cell_type": "code",
   "execution_count": 9,
   "id": "a57f3962",
   "metadata": {},
   "outputs": [
    {
     "name": "stdout",
     "output_type": "stream",
     "text": [
      "b\n",
      "a\n",
      "n\n",
      "a\n",
      "n\n",
      "a\n"
     ]
    }
   ],
   "source": [
    "for i in \"banana\":\n",
    "    print(i)\n"
   ]
  },
  {
   "cell_type": "code",
   "execution_count": 10,
   "id": "ccc1f5eb",
   "metadata": {},
   "outputs": [
    {
     "name": "stdout",
     "output_type": "stream",
     "text": [
      "23\n"
     ]
    }
   ],
   "source": [
    "str1 = \"this is my python class\"\n",
    "print(len(str1))"
   ]
  },
  {
   "cell_type": "code",
   "execution_count": 13,
   "id": "1983a8a9",
   "metadata": {},
   "outputs": [
    {
     "name": "stdout",
     "output_type": "stream",
     "text": [
      "True\n"
     ]
    }
   ],
   "source": [
    "str1 = \"this is my python class\"\n",
    "print(\"python\" in str1)"
   ]
  },
  {
   "cell_type": "code",
   "execution_count": 14,
   "id": "1d75c084",
   "metadata": {},
   "outputs": [
    {
     "name": "stdout",
     "output_type": "stream",
     "text": [
      "yes, 'best' present\n"
     ]
    }
   ],
   "source": [
    "ass = \"this is my best life expriance\"\n",
    "if \"best\" in ass:\n",
    "    print(\"yes, 'best' present\")"
   ]
  },
  {
   "cell_type": "code",
   "execution_count": 19,
   "id": "1c6a0a95",
   "metadata": {},
   "outputs": [
    {
     "name": "stdout",
     "output_type": "stream",
     "text": [
      "yes\n"
     ]
    }
   ],
   "source": [
    "star = \"this is my best life expriance\"\n",
    "if \"best\" in star:\n",
    "        print(\"yes\")\n",
    "else:\n",
    "    print(\"no\")"
   ]
  },
  {
   "cell_type": "code",
   "execution_count": 20,
   "id": "52dc909d",
   "metadata": {},
   "outputs": [
    {
     "name": "stdout",
     "output_type": "stream",
     "text": [
      "HELLOW WORLD\n"
     ]
    }
   ],
   "source": [
    "str1 = \"hellow world\"\n",
    "print(str1.upper())"
   ]
  },
  {
   "cell_type": "code",
   "execution_count": 21,
   "id": "32c05b4f",
   "metadata": {},
   "outputs": [
    {
     "name": "stdout",
     "output_type": "stream",
     "text": [
      "this is my frist step\n"
     ]
    }
   ],
   "source": [
    "str2 = \"THIS IS MY FRIST STEP\"\n",
    "print(str2.lower())"
   ]
  },
  {
   "cell_type": "code",
   "execution_count": 23,
   "id": "4de15d33",
   "metadata": {},
   "outputs": [
    {
     "name": "stdout",
     "output_type": "stream",
     "text": [
      "['THIS IS MY FRIST STEP']\n"
     ]
    }
   ],
   "source": [
    "s1 = \"THIS IS MY FRIST STEP\"\n",
    "print(s1.split(\".\"))"
   ]
  },
  {
   "cell_type": "code",
   "execution_count": 24,
   "id": "4e3f85a3",
   "metadata": {},
   "outputs": [
    {
     "name": "stdout",
     "output_type": "stream",
     "text": [
      "hellowworld\n"
     ]
    }
   ],
   "source": [
    "str1 = \"hellow\"\n",
    "str2 = \"world\"\n",
    "str3 = str1+str2\n",
    "print(str3)"
   ]
  },
  {
   "cell_type": "code",
   "execution_count": 25,
   "id": "d2f0fec9",
   "metadata": {},
   "outputs": [
    {
     "name": "stdout",
     "output_type": "stream",
     "text": [
      "7\n"
     ]
    }
   ],
   "source": [
    "txt = \"hellow welcome my class\"\n",
    "x = txt.find(\"welcome\")\n",
    "print(x)"
   ]
  },
  {
   "cell_type": "code",
   "execution_count": 1,
   "id": "05258d29",
   "metadata": {},
   "outputs": [
    {
     "name": "stdout",
     "output_type": "stream",
     "text": [
      "for only 49.00 dollars\n"
     ]
    }
   ],
   "source": [
    "txt1 = \"for only {price:.2f} dollars\"\n",
    "print(txt1.format(price = 49))"
   ]
  },
  {
   "cell_type": "code",
   "execution_count": 27,
   "id": "fb8a1695",
   "metadata": {},
   "outputs": [
    {
     "name": "stdout",
     "output_type": "stream",
     "text": [
      "['welcome', 'to', 'my', 'home']\n"
     ]
    }
   ],
   "source": [
    "txt = \"welcome to my home\"\n",
    "x = txt.split()\n",
    "print(x)"
   ]
  },
  {
   "cell_type": "markdown",
   "id": "bf78bb61",
   "metadata": {},
   "source": [
    "# tuple"
   ]
  },
  {
   "cell_type": "code",
   "execution_count": 2,
   "id": "2a9c7bc7",
   "metadata": {},
   "outputs": [
    {
     "name": "stdout",
     "output_type": "stream",
     "text": [
      "('apple', 'banana')\n"
     ]
    }
   ],
   "source": [
    "tuple = (\"apple\",\"banana\")\n",
    "print(tuple)"
   ]
  },
  {
   "cell_type": "code",
   "execution_count": 4,
   "id": "fa1908de",
   "metadata": {},
   "outputs": [
    {
     "name": "stdout",
     "output_type": "stream",
     "text": [
      "3\n"
     ]
    }
   ],
   "source": [
    "thistuple = (1,2,3,4,5, 5 , 5,6,7,8,9)\n",
    "x = thistuple.count(5)\n",
    "print(x)"
   ]
  },
  {
   "cell_type": "code",
   "execution_count": 5,
   "id": "f55b1450",
   "metadata": {},
   "outputs": [
    {
     "name": "stdout",
     "output_type": "stream",
     "text": [
      "9\n"
     ]
    }
   ],
   "source": [
    "thistuple = (1,2,3,4,5, 5 , 5,6,7,8,9)\n",
    "x = thistuple.index(8)\n",
    "print(x)"
   ]
  },
  {
   "cell_type": "code",
   "execution_count": 6,
   "id": "72ed29a5",
   "metadata": {},
   "outputs": [
    {
     "name": "stdout",
     "output_type": "stream",
     "text": [
      "apple\n"
     ]
    }
   ],
   "source": [
    "thistuple = (\"banana\",\"apple\",\"kivi\",\"cherry\")\n",
    "print(thistuple[1])"
   ]
  },
  {
   "cell_type": "code",
   "execution_count": 8,
   "id": "cf0a1549",
   "metadata": {},
   "outputs": [
    {
     "name": "stdout",
     "output_type": "stream",
     "text": [
      "('kivi', 'cherry')\n"
     ]
    }
   ],
   "source": [
    "thistuple = (\"banana\",\"apple\",\"kivi\",\"cherry\")\n",
    "print(thistuple[2:5])"
   ]
  },
  {
   "cell_type": "code",
   "execution_count": 17,
   "id": "56feac1f",
   "metadata": {},
   "outputs": [
    {
     "name": "stdout",
     "output_type": "stream",
     "text": [
      "('banana', 'apple', 'kivi', 'cherry', 'orange')\n"
     ]
    }
   ],
   "source": [
    "thistuple = (\"banana\",\"apple\",\"kivi\",\"cherry\")\n",
    "y = (\"orange\",)\n",
    "thistuple += y\n",
    "\n",
    "print(thistuple)"
   ]
  },
  {
   "cell_type": "markdown",
   "id": "37861a51",
   "metadata": {},
   "source": [
    "# set"
   ]
  },
  {
   "cell_type": "code",
   "execution_count": 19,
   "id": "8e765141",
   "metadata": {},
   "outputs": [
    {
     "name": "stdout",
     "output_type": "stream",
     "text": [
      "{'banana', 'apple', 'orange'}\n"
     ]
    }
   ],
   "source": [
    "thisset = {\"apple\",\"banana\",\"banana\",\"orange\"}\n",
    "print(thisset)"
   ]
  },
  {
   "cell_type": "code",
   "execution_count": 20,
   "id": "ade081ad",
   "metadata": {},
   "outputs": [
    {
     "name": "stdout",
     "output_type": "stream",
     "text": [
      "{False, True}\n"
     ]
    }
   ],
   "source": [
    "thisset = {\"apple\",\"banana\",\"banana\",\"orange\"}\n",
    "set2 = {1,2,3,4,5,6}\n",
    "set3 = {True,False,False}\n",
    "print(set3)"
   ]
  },
  {
   "cell_type": "code",
   "execution_count": 22,
   "id": "1b6cb513",
   "metadata": {},
   "outputs": [
    {
     "name": "stdout",
     "output_type": "stream",
     "text": [
      "True\n"
     ]
    }
   ],
   "source": [
    "thisset = {\"apple\",\"banana\",\"banana\",\"orange\"}\n",
    "print(\"banana\" in thisset)"
   ]
  },
  {
   "cell_type": "code",
   "execution_count": 23,
   "id": "d13f24ef",
   "metadata": {},
   "outputs": [
    {
     "name": "stdout",
     "output_type": "stream",
     "text": [
      "{'banana', 'apple', 'mango', 'orange'}\n"
     ]
    }
   ],
   "source": [
    "thisset = {\"apple\",\"banana\",\"banana\",\"orange\"}\n",
    "thisset.add(\"mango\")\n",
    "print(thisset)\n"
   ]
  },
  {
   "cell_type": "code",
   "execution_count": 24,
   "id": "b2d85d5e",
   "metadata": {},
   "outputs": [
    {
     "name": "stdout",
     "output_type": "stream",
     "text": [
      "{'popcorn', 'banana', 'apple', 'orange'}\n"
     ]
    }
   ],
   "source": [
    "thisset = {\"apple\",\"banana\",\"banana\",\"orange\"}\n",
    "this = {\"popcorn\"}\n",
    "thisset.update(this)\n",
    "print(thisset)"
   ]
  },
  {
   "cell_type": "code",
   "execution_count": 26,
   "id": "e96370f9",
   "metadata": {},
   "outputs": [
    {
     "name": "stdout",
     "output_type": "stream",
     "text": [
      "{'apple', 'orange'}\n"
     ]
    }
   ],
   "source": [
    "thisset = {\"apple\",\"banana\",\"banana\",\"orange\"}\n",
    "thisset.remove(\"banana\")\n",
    "print(thisset)"
   ]
  },
  {
   "cell_type": "code",
   "execution_count": 27,
   "id": "960869ad",
   "metadata": {},
   "outputs": [
    {
     "name": "stdout",
     "output_type": "stream",
     "text": [
      "set()\n"
     ]
    }
   ],
   "source": [
    "thisset = {\"apple\",\"banana\",\"banana\",\"orange\"}\n",
    "thisset.clear()\n",
    "print(thisset)"
   ]
  },
  {
   "cell_type": "code",
   "execution_count": 13,
   "id": "fa48c6f2",
   "metadata": {},
   "outputs": [
    {
     "ename": "NameError",
     "evalue": "name 'thisset' is not defined",
     "output_type": "error",
     "traceback": [
      "\u001b[0;31m---------------------------------------------------------------------------\u001b[0m",
      "\u001b[0;31mNameError\u001b[0m                                 Traceback (most recent call last)",
      "Input \u001b[0;32mIn [13]\u001b[0m, in \u001b[0;36m<module>\u001b[0;34m\u001b[0m\n\u001b[1;32m      1\u001b[0m thisset \u001b[38;5;241m=\u001b[39m {\u001b[38;5;124m\"\u001b[39m\u001b[38;5;124mapple\u001b[39m\u001b[38;5;124m\"\u001b[39m,\u001b[38;5;124m\"\u001b[39m\u001b[38;5;124mbanana\u001b[39m\u001b[38;5;124m\"\u001b[39m,\u001b[38;5;124m\"\u001b[39m\u001b[38;5;124mbanana\u001b[39m\u001b[38;5;124m\"\u001b[39m,\u001b[38;5;124m\"\u001b[39m\u001b[38;5;124morange\u001b[39m\u001b[38;5;124m\"\u001b[39m}\n\u001b[1;32m      2\u001b[0m \u001b[38;5;28;01mdel\u001b[39;00m thisset\n\u001b[0;32m----> 3\u001b[0m \u001b[38;5;28mprint\u001b[39m(\u001b[43mthisset\u001b[49m)\n",
      "\u001b[0;31mNameError\u001b[0m: name 'thisset' is not defined"
     ]
    }
   ],
   "source": [
    "thisset = {\"apple\",\"banana\",\"banana\",\"orange\"}\n",
    "del thisset\n",
    "print(thisset)"
   ]
  },
  {
   "cell_type": "code",
   "execution_count": 29,
   "id": "09600f8b",
   "metadata": {},
   "outputs": [
    {
     "name": "stdout",
     "output_type": "stream",
     "text": [
      "{1, 2, 3, 'banana', 4, 5, 'orange', 'apple'}\n"
     ]
    }
   ],
   "source": [
    "set1 =  {\"apple\",\"banana\",\"banana\",\"orange\"}\n",
    "set2 = {1,2,3,4,5}\n",
    "set3 = set1.union(set2)\n",
    "print(set3)"
   ]
  },
  {
   "cell_type": "markdown",
   "id": "96f62a18",
   "metadata": {},
   "source": [
    "# oops "
   ]
  },
  {
   "cell_type": "code",
   "execution_count": 8,
   "id": "beea4238",
   "metadata": {},
   "outputs": [
    {
     "name": "stdout",
     "output_type": "stream",
     "text": [
      "name:sapna\n",
      "age:23\n"
     ]
    }
   ],
   "source": [
    "class Person:\n",
    "    def __init__(self, name,age):\n",
    "        self.name = name\n",
    "        self.age =age\n",
    "        \n",
    "    def myfuncation(self):\n",
    "        print(\"name:{}\".format(self.name)) \n",
    "        print(\"age:{}\".format(self.age))        \n",
    "        \n",
    "        \n",
    "pl = Person(\"sapna\",23)\n",
    "pl.myfuncation()\n",
    "        "
   ]
  },
  {
   "cell_type": "code",
   "execution_count": 7,
   "id": "bea6dbe6",
   "metadata": {},
   "outputs": [
    {
     "name": "stdout",
     "output_type": "stream",
     "text": [
      "The name is sapna salary is 3232 and role is developer\n"
     ]
    }
   ],
   "source": [
    "class Employee:\n",
    "    def __init__(self, name, salary, role):\n",
    "        self.name = name\n",
    "        self.salary = salary\n",
    "        self.role = role\n",
    "        \n",
    "        \n",
    "    def printditals(self):\n",
    "        return f\"The name is {self.name} salary is {self.salary} and role is {self.role}\"\n",
    "  \n",
    "    \n",
    "sapna = Employee(\"sapna\",3232,\"developer\")\n",
    "kapil = Employee(\"kapil\",255,\"salse\")\n",
    "print(sapna.printditals())\n"
   ]
  },
  {
   "cell_type": "code",
   "execution_count": 3,
   "id": "91b06cc7",
   "metadata": {},
   "outputs": [
    {
     "name": "stdout",
     "output_type": "stream",
     "text": [
      "rahul\n",
      "123456\n",
      "My name is rahul\n",
      "Idnumber:123456\n",
      "Post:developer\n"
     ]
    }
   ],
   "source": [
    "class Person(object):\n",
    "    def __init__(self,name,idnumber):\n",
    "        self.name = name\n",
    "        self.idnumber = idnumber\n",
    "        \n",
    "    def display(self):\n",
    "        print(self.name)\n",
    "        print(self.idnumber)\n",
    "    def details(self):\n",
    "        print(\"My name is {}\".format(self.name))\n",
    "        print(\"Idnumber:{}\".format(self.idnumber))   \n",
    "        \n",
    "class Employee(Person):\n",
    "    def __init__(self,name,idnumber,salary,post):\n",
    "        self.salary = salary\n",
    "        self.post = post\n",
    "        \n",
    "        Person.__init__(self,name,idnumber)\n",
    "        \n",
    "        \n",
    "    def details(self):\n",
    "        print(\"My name is {}\".format(self.name))\n",
    "        print(\"Idnumber:{}\".format(self.idnumber)) \n",
    "        print(\"Post:{}\".format(self.post)) \n",
    "        \n",
    "a = Employee(\"rahul\",123456,20000,\"developer\") \n",
    "a.display()\n",
    "a.details()"
   ]
  },
  {
   "cell_type": "markdown",
   "id": "6f009baa",
   "metadata": {},
   "source": [
    "# singal inheritance"
   ]
  },
  {
   "cell_type": "code",
   "execution_count": 1,
   "id": "e3f475da",
   "metadata": {},
   "outputs": [],
   "source": [
    "class Vehicle:\n",
    "    def __init__(self,milage,cost):\n",
    "        self.milage = milage\n",
    "        self.cost = cost\n",
    "        \n",
    "    def show_vehicle_detials(self):\n",
    "        print(\"Milage of vehicle is\", self.milage)\n",
    "        print(\"cost of vehicle is\", self.cost)   \n",
    "        print(\"I am a vehicle\")"
   ]
  },
  {
   "cell_type": "code",
   "execution_count": 2,
   "id": "82f0f965",
   "metadata": {},
   "outputs": [],
   "source": [
    "v1 = Vehicle(40,200000)"
   ]
  },
  {
   "cell_type": "code",
   "execution_count": 3,
   "id": "841cfcd7",
   "metadata": {},
   "outputs": [
    {
     "name": "stdout",
     "output_type": "stream",
     "text": [
      "Milage of vehicle is 40\n",
      "cost of vehicle is 200000\n",
      "I am a vehicle\n"
     ]
    }
   ],
   "source": [
    "v1.show_vehicle_detials()"
   ]
  },
  {
   "cell_type": "code",
   "execution_count": 4,
   "id": "c74c6125",
   "metadata": {},
   "outputs": [],
   "source": [
    "class Car(Vehicle):\n",
    "    def show_car_detials(self):\n",
    "        print(\"I am a car\")"
   ]
  },
  {
   "cell_type": "code",
   "execution_count": 5,
   "id": "47a20a2f",
   "metadata": {},
   "outputs": [],
   "source": [
    "c1 = Car(20,500000)"
   ]
  },
  {
   "cell_type": "code",
   "execution_count": 7,
   "id": "f8592002",
   "metadata": {},
   "outputs": [
    {
     "name": "stdout",
     "output_type": "stream",
     "text": [
      "I am a car\n"
     ]
    }
   ],
   "source": [
    "c1.show_car_detials()"
   ]
  },
  {
   "cell_type": "code",
   "execution_count": 3,
   "id": "e1b08fc4",
   "metadata": {},
   "outputs": [],
   "source": [
    "class Vehicle:\n",
    "    def __init__(self,milage,cost):\n",
    "        self.milage = milage\n",
    "        self.cost = cost\n",
    "        \n",
    "    def show_vehicle_detials(self):\n",
    "        print(\"Milage of vehicle is\", self.milage)\n",
    "        print(\"cost of vehicle is\", self.cost)   \n",
    "        print(\"I am a vehicle\")"
   ]
  },
  {
   "cell_type": "code",
   "execution_count": 4,
   "id": "30c0ee4e",
   "metadata": {},
   "outputs": [],
   "source": [
    "class Car(Vehicle):\n",
    "    def __init__(self,milage,cost,tyres,hp):\n",
    "        super(). __init__(milage,cost)\n",
    "        self.tyres= tyres\n",
    "        self.hp = hp\n",
    "        \n",
    "    def show_car_detials(self):\n",
    "        print(\"Numbers of Tyres in a car\", self.tyres)\n",
    "        print(\"Horse power in a car\", self.hp)   \n",
    "        print(\"I am a car\")\n",
    "        "
   ]
  },
  {
   "cell_type": "code",
   "execution_count": 5,
   "id": "c057f13b",
   "metadata": {},
   "outputs": [],
   "source": [
    "c1 = Car(600,1200000,4,999)"
   ]
  },
  {
   "cell_type": "code",
   "execution_count": 7,
   "id": "ff747806",
   "metadata": {},
   "outputs": [
    {
     "name": "stdout",
     "output_type": "stream",
     "text": [
      "Milage of vehicle is 600\n",
      "cost of vehicle is 1200000\n",
      "I am a vehicle\n"
     ]
    }
   ],
   "source": [
    "c1.show_vehicle_detials()"
   ]
  },
  {
   "cell_type": "code",
   "execution_count": 8,
   "id": "e75b8e4b",
   "metadata": {},
   "outputs": [
    {
     "name": "stdout",
     "output_type": "stream",
     "text": [
      "Numbers of Tyres in a car 4\n",
      "Horse power in a car 999\n",
      "I am a car\n"
     ]
    }
   ],
   "source": [
    "c1.show_car_detials()"
   ]
  },
  {
   "cell_type": "markdown",
   "id": "422e50f2",
   "metadata": {},
   "source": [
    "# Multipal inheritance"
   ]
  },
  {
   "cell_type": "code",
   "execution_count": 14,
   "id": "ccbfa3ff",
   "metadata": {},
   "outputs": [],
   "source": [
    "class Prent1:\n",
    "    def assign_string_one(self,str1):\n",
    "        self.str1 = str1\n",
    "        \n",
    "    def show_string_one(self):\n",
    "        return self.str1"
   ]
  },
  {
   "cell_type": "code",
   "execution_count": 17,
   "id": "350b6608",
   "metadata": {},
   "outputs": [],
   "source": [
    "class Prent2:\n",
    "    def assign_string_two(self,str2):\n",
    "        self.str2 = str2\n",
    "        \n",
    "    def show_string_two(self):\n",
    "        return self.str2"
   ]
  },
  {
   "cell_type": "code",
   "execution_count": 18,
   "id": "484537f4",
   "metadata": {},
   "outputs": [],
   "source": [
    "class Child(Prent1,Prent2):\n",
    "    def assign_string_three(self,str3):\n",
    "        self.str3 = str3\n",
    "        \n",
    "    def show_string_three(self):\n",
    "        return self.str3"
   ]
  },
  {
   "cell_type": "code",
   "execution_count": 19,
   "id": "8d9d7f6c",
   "metadata": {},
   "outputs": [],
   "source": [
    "my_child = Child()"
   ]
  },
  {
   "cell_type": "code",
   "execution_count": 20,
   "id": "3744a546",
   "metadata": {},
   "outputs": [],
   "source": [
    "my_child.assign_string_one(\"I am a string 1\")"
   ]
  },
  {
   "cell_type": "code",
   "execution_count": 21,
   "id": "537d04d3",
   "metadata": {},
   "outputs": [],
   "source": [
    "my_child.assign_string_two(\"I am a string 2\")"
   ]
  },
  {
   "cell_type": "code",
   "execution_count": 22,
   "id": "0ab29226",
   "metadata": {},
   "outputs": [],
   "source": [
    "my_child.assign_string_three(\"I am a string of child\")"
   ]
  },
  {
   "cell_type": "code",
   "execution_count": 23,
   "id": "00e31d91",
   "metadata": {},
   "outputs": [
    {
     "data": {
      "text/plain": [
       "'I am a string 1'"
      ]
     },
     "execution_count": 23,
     "metadata": {},
     "output_type": "execute_result"
    }
   ],
   "source": [
    "my_child.show_string_one()"
   ]
  },
  {
   "cell_type": "code",
   "execution_count": 24,
   "id": "0b78d742",
   "metadata": {},
   "outputs": [
    {
     "data": {
      "text/plain": [
       "'I am a string 1'"
      ]
     },
     "execution_count": 24,
     "metadata": {},
     "output_type": "execute_result"
    }
   ],
   "source": [
    "my_child.show_string_two()"
   ]
  },
  {
   "cell_type": "code",
   "execution_count": 25,
   "id": "574fb21a",
   "metadata": {},
   "outputs": [
    {
     "data": {
      "text/plain": [
       "'I am a string of child'"
      ]
     },
     "execution_count": 25,
     "metadata": {},
     "output_type": "execute_result"
    }
   ],
   "source": [
    "my_child.show_string_three()"
   ]
  },
  {
   "cell_type": "markdown",
   "id": "e3f9e60c",
   "metadata": {},
   "source": [
    "# multy_levle_inheritance"
   ]
  },
  {
   "cell_type": "code",
   "execution_count": 58,
   "id": "236bb3f8",
   "metadata": {},
   "outputs": [],
   "source": [
    "class Prent:\n",
    "    def get_name(self,name):\n",
    "        self.name = name\n",
    "    def show_name(self):\n",
    "        return self.name"
   ]
  },
  {
   "cell_type": "code",
   "execution_count": 59,
   "id": "b57ee0b1",
   "metadata": {},
   "outputs": [],
   "source": [
    "class child(Prent):\n",
    "    def get_age(self,age):\n",
    "        self.age = age\n",
    "    def show_age(self):\n",
    "        return self.age "
   ]
  },
  {
   "cell_type": "code",
   "execution_count": 60,
   "id": "3217ed89",
   "metadata": {},
   "outputs": [],
   "source": [
    "class Grendchild(child):\n",
    "    def get_gender(self,gender):\n",
    "        self.gender = gender\n",
    "    def show_gender(self):\n",
    "        return self.gender"
   ]
  },
  {
   "cell_type": "code",
   "execution_count": 61,
   "id": "b4c49432",
   "metadata": {},
   "outputs": [],
   "source": [
    "gc = Grendchild()"
   ]
  },
  {
   "cell_type": "code",
   "execution_count": 62,
   "id": "7c842522",
   "metadata": {},
   "outputs": [],
   "source": [
    "gc.get_name(\"mukesh\")"
   ]
  },
  {
   "cell_type": "code",
   "execution_count": 63,
   "id": "858b61a2",
   "metadata": {},
   "outputs": [],
   "source": [
    "gc.get_age(26)"
   ]
  },
  {
   "cell_type": "code",
   "execution_count": 64,
   "id": "e96b239d",
   "metadata": {},
   "outputs": [],
   "source": [
    "gc.get_gender(\"Male\")"
   ]
  },
  {
   "cell_type": "code",
   "execution_count": 65,
   "id": "98144d3a",
   "metadata": {},
   "outputs": [
    {
     "data": {
      "text/plain": [
       "'mukesh'"
      ]
     },
     "execution_count": 65,
     "metadata": {},
     "output_type": "execute_result"
    }
   ],
   "source": [
    "gc.show_name()"
   ]
  },
  {
   "cell_type": "code",
   "execution_count": 66,
   "id": "ec64f8e8",
   "metadata": {},
   "outputs": [
    {
     "data": {
      "text/plain": [
       "26"
      ]
     },
     "execution_count": 66,
     "metadata": {},
     "output_type": "execute_result"
    }
   ],
   "source": [
    "gc.show_age()"
   ]
  },
  {
   "cell_type": "code",
   "execution_count": 67,
   "id": "6eea41a4",
   "metadata": {},
   "outputs": [
    {
     "data": {
      "text/plain": [
       "'Male'"
      ]
     },
     "execution_count": 67,
     "metadata": {},
     "output_type": "execute_result"
    }
   ],
   "source": [
    "gc.show_gender()"
   ]
  },
  {
   "cell_type": "code",
   "execution_count": 4,
   "id": "18fb880d",
   "metadata": {},
   "outputs": [
    {
     "name": "stdout",
     "output_type": "stream",
     "text": [
      "[12, 55]\n"
     ]
    }
   ],
   "source": [
    "def remove(duplicate):\n",
    "    final_list = []\n",
    "    for num in duplicate:\n",
    "        if not num in final_list:\n",
    "            final_list.append(num)\n",
    "    return final_list        \n",
    "            \n",
    "duplicate = [12,12,12,12,12,55]\n",
    "print(remove(duplicate))"
   ]
  },
  {
   "cell_type": "markdown",
   "id": "c0cfd21c",
   "metadata": {},
   "source": [
    "# File Hendling"
   ]
  },
  {
   "cell_type": "code",
   "execution_count": 15,
   "id": "3338871b",
   "metadata": {},
   "outputs": [
    {
     "name": "stdout",
     "output_type": "stream",
     "text": [
      "susses\n"
     ]
    }
   ],
   "source": [
    "f = open('student.txt', mode='w')\n",
    "f.write('hellow how are you\\n')\n",
    "f.write('i am a developer\\n')\n",
    "f.write('this is a python\\n')\n",
    "print('susses')\n",
    "f.close()"
   ]
  },
  {
   "cell_type": "code",
   "execution_count": 16,
   "id": "5a607651",
   "metadata": {},
   "outputs": [
    {
     "name": "stdout",
     "output_type": "stream",
     "text": [
      "ok\n"
     ]
    }
   ],
   "source": [
    "f= open('student.txt', mode= 'r')\n",
    "data = f.read()\n",
    "print('ok')\n",
    "f.close()"
   ]
  },
  {
   "cell_type": "code",
   "execution_count": 17,
   "id": "6fa328a9",
   "metadata": {},
   "outputs": [
    {
     "name": "stdout",
     "output_type": "stream",
     "text": [
      "susses\n"
     ]
    }
   ],
   "source": [
    "f = open('student.txt', mode='rb')\n",
    "data = f.read()\n",
    "print('susses')\n",
    "f.close()"
   ]
  },
  {
   "cell_type": "code",
   "execution_count": null,
   "id": "2b426142",
   "metadata": {},
   "outputs": [],
   "source": []
  }
 ],
 "metadata": {
  "kernelspec": {
   "display_name": "Python 3 (ipykernel)",
   "language": "python",
   "name": "python3"
  },
  "language_info": {
   "codemirror_mode": {
    "name": "ipython",
    "version": 3
   },
   "file_extension": ".py",
   "mimetype": "text/x-python",
   "name": "python",
   "nbconvert_exporter": "python",
   "pygments_lexer": "ipython3",
   "version": "3.9.7"
  }
 },
 "nbformat": 4,
 "nbformat_minor": 5
}
