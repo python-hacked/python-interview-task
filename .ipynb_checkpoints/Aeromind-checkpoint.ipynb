{
 "cells": [
  {
   "cell_type": "markdown",
   "id": "140308a1",
   "metadata": {},
   "source": [
    "Factorial: Write a function to calculate the factorial of a given number."
   ]
  },
  {
   "cell_type": "code",
   "execution_count": 7,
   "id": "d845adc9",
   "metadata": {},
   "outputs": [
    {
     "name": "stdout",
     "output_type": "stream",
     "text": [
      "the factorial of 5 is:120\n"
     ]
    }
   ],
   "source": [
    "def factorial_number(n):\n",
    "    if n == 0 or n == 1:\n",
    "        return 1\n",
    "    else:\n",
    "        return n*factorial_number(n - 1)\n",
    "    \n",
    "num = 5\n",
    "result = factorial_number(num)\n",
    "print(f\"the factorial of {num} is:{result}\")\n",
    "        \n",
    "    "
   ]
  },
  {
   "cell_type": "markdown",
   "id": "0c2b5135",
   "metadata": {},
   "source": [
    "Reverse a String: Write a function to reverse a given string.\n",
    "\n"
   ]
  },
  {
   "cell_type": "code",
   "execution_count": 8,
   "id": "31053401",
   "metadata": {},
   "outputs": [
    {
     "name": "stdout",
     "output_type": "stream",
     "text": [
      "dlrow wolleh\n"
     ]
    }
   ],
   "source": [
    "def reverce_string(s):\n",
    "    return s[::-1]\n",
    "\n",
    "string = \"hellow world\"\n",
    "\n",
    "result = reverce_string(string)\n",
    "print(result)"
   ]
  },
  {
   "cell_type": "markdown",
   "id": "0f64c11a",
   "metadata": {},
   "source": [
    "Fibonacci Series: Write a function to generate the Fibonacci series up to a given number.\n",
    "\n"
   ]
  },
  {
   "cell_type": "code",
   "execution_count": 12,
   "id": "37804b8e",
   "metadata": {},
   "outputs": [
    {
     "name": "stdout",
     "output_type": "stream",
     "text": [
      "Fibonacci series up to 100: [0, 1, 1, 2, 3, 5, 8, 13, 21, 34, 55, 89]\n"
     ]
    }
   ],
   "source": [
    "def fibonacci_generator(limit):\n",
    "    a, b = 0, 1\n",
    "    while a <= limit:\n",
    "        yield a\n",
    "        a, b = b, a + b\n",
    "\n",
    "limit = 100\n",
    "fib_series = list(fibonacci_generator(limit))\n",
    "print(f\"Fibonacci series up to {limit}: {fib_series}\")\n"
   ]
  },
  {
   "cell_type": "markdown",
   "id": "2d9af2a1",
   "metadata": {},
   "source": [
    "Prime Numbers: Write a function to check if a given number is prime.\n",
    "\n"
   ]
  },
  {
   "cell_type": "code",
   "execution_count": 14,
   "id": "d1345883",
   "metadata": {},
   "outputs": [
    {
     "name": "stdout",
     "output_type": "stream",
     "text": [
      "True\n"
     ]
    }
   ],
   "source": [
    "def is_prime(number):\n",
    "    if number < 2:\n",
    "        return False\n",
    "    \n",
    "    for i in range(2, int(number ** 0.5)+1):\n",
    "        if number % 1 == 0:\n",
    "            return False\n",
    "    return True\n",
    "\n",
    "num = 2\n",
    "\n",
    "result = is_prime(num)\n",
    "print(result)\n",
    "    "
   ]
  },
  {
   "cell_type": "markdown",
   "id": "deebebfc",
   "metadata": {},
   "source": [
    "Duplicate Elements: Write a function to find and remove duplicate elements from a list.\n",
    "\n"
   ]
  },
  {
   "cell_type": "code",
   "execution_count": 15,
   "id": "a766a251",
   "metadata": {},
   "outputs": [
    {
     "name": "stdout",
     "output_type": "stream",
     "text": [
      "[15, 2, 3, 6, 5, 8, 1]\n"
     ]
    }
   ],
   "source": [
    "list1 = [15,15,2,3,6,5,5,8,1,15]\n",
    "\n",
    "new_list = []\n",
    "\n",
    "for i in list1:\n",
    "    if i not in new_list:\n",
    "        new_list.append(i)\n",
    "print(new_list)        "
   ]
  },
  {
   "cell_type": "markdown",
   "id": "93d78a5b",
   "metadata": {},
   "source": [
    "Common Elements in Lists: Write a function to find common elements between two lists.\n",
    "\n"
   ]
  },
  {
   "cell_type": "code",
   "execution_count": 19,
   "id": "77f0bd67",
   "metadata": {},
   "outputs": [
    {
     "name": "stdout",
     "output_type": "stream",
     "text": [
      "[1, 2, 3]\n"
     ]
    }
   ],
   "source": [
    "def commen_elimant(list1,list2):\n",
    "    return list(set(list1) & set(list2))\n",
    "list1 = [1,2,3,4,5]\n",
    "list2 = [1,78,69,3,2,11]\n",
    "result = (commen_elimant(list1,list2))\n",
    "print(result)"
   ]
  },
  {
   "cell_type": "code",
   "execution_count": 18,
   "id": "bdeddd3e",
   "metadata": {},
   "outputs": [
    {
     "name": "stdout",
     "output_type": "stream",
     "text": [
      "Common elements: [3, 4, 5]\n"
     ]
    }
   ],
   "source": [
    "def find_common_elements(list1, list2):\n",
    "    return list(set(list1) & set(list2))\n",
    "\n",
    "# Test the function\n",
    "list1 = [1, 2, 3, 4, 5]\n",
    "list2 = [3, 4, 5, 6, 7]\n",
    "\n",
    "common_elements = find_common_elements(list1, list2)\n",
    "print(f\"Common elements: {common_elements}\")\n"
   ]
  },
  {
   "cell_type": "markdown",
   "id": "2c7f3f70",
   "metadata": {},
   "source": [
    "def find_commennumber(list1,list2):\n",
    "    new_list = []\n",
    "    for i in list1:\n",
    "        for j in list2:\n",
    "            if i ==j and i not in new_list:\n",
    "                new_list.append(i)\n",
    "    return new_list\n",
    "list1 = [22,54,56,2]\n",
    "list2 = [3, 4, 5, 6, 2]\n",
    "result = find_commennumber(list1,list2)\n",
    "print(result)"
   ]
  },
  {
   "cell_type": "markdown",
   "id": "093b6eb9",
   "metadata": {},
   "source": [
    "Find Missing Number: Write a function to find the missing number in a given list of integers from 1 to N."
   ]
  },
  {
   "cell_type": "code",
   "execution_count": 29,
   "id": "db352198",
   "metadata": {},
   "outputs": [
    {
     "name": "stdout",
     "output_type": "stream",
     "text": [
      "5\n"
     ]
    }
   ],
   "source": [
    "def find_messing_number(num,n):\n",
    "    expacted_sum = n * (n+1) // 2\n",
    "    actual_sum = sum(num)\n",
    "    return expacted_sum - actual_sum\n",
    "\n",
    "num = [1,2,3,4,6,7,8]\n",
    "n = 8\n",
    "\n",
    "missing_number = find_messing_number(num,n)\n",
    "\n",
    "print(missing_number)\n",
    "    "
   ]
  },
  {
   "cell_type": "markdown",
   "id": "78b31d12",
   "metadata": {},
   "source": [
    "Matrix Multiplication: Write a function to multiply two matrices."
   ]
  },
  {
   "cell_type": "code",
   "execution_count": 1,
   "id": "f3ce8e39",
   "metadata": {},
   "outputs": [
    {
     "name": "stdout",
     "output_type": "stream",
     "text": [
      "[30, 24, 18]\n",
      "[84, 69, 54]\n",
      "[138, 114, 90]\n"
     ]
    }
   ],
   "source": [
    "def multiply_matrices(matrix1, matrix2):\n",
    "    rows1, cols1 = len(matrix1), len(matrix1[0])\n",
    "    rows2, cols2 = len(matrix2), len(matrix2[0])\n",
    "\n",
    "    if cols1 != rows2:\n",
    "        raise ValueError(\"Number of columns in the first matrix must be equal to the number of rows in the second matrix.\")\n",
    "\n",
    "    result = [[0 for _ in range(cols2)] for _ in range(rows1)]\n",
    "\n",
    "    for i in range(rows1):\n",
    "        for j in range(cols2):\n",
    "            for k in range(cols1):\n",
    "                result[i][j] += matrix1[i][k] * matrix2[k][j]\n",
    "\n",
    "    return result\n",
    "\n",
    "# Test the function\n",
    "matrix1 = [[1, 2, 3],\n",
    "           [4, 5, 6],\n",
    "           [7, 8, 9]]\n",
    "\n",
    "matrix2 = [[9, 8, 7],\n",
    "           [6, 5, 4],\n",
    "           [3, 2, 1]]\n",
    "\n",
    "result = multiply_matrices(matrix1, matrix2)\n",
    "for row in result:\n",
    "    print(row)\n"
   ]
  },
  {
   "cell_type": "code",
   "execution_count": null,
   "id": "907c1538",
   "metadata": {},
   "outputs": [],
   "source": []
  }
 ],
 "metadata": {
  "kernelspec": {
   "display_name": "Python 3 (ipykernel)",
   "language": "python",
   "name": "python3"
  },
  "language_info": {
   "codemirror_mode": {
    "name": "ipython",
    "version": 3
   },
   "file_extension": ".py",
   "mimetype": "text/x-python",
   "name": "python",
   "nbconvert_exporter": "python",
   "pygments_lexer": "ipython3",
   "version": "3.10.11"
  }
 },
 "nbformat": 4,
 "nbformat_minor": 5
}
