{
 "cells": [
  {
   "cell_type": "code",
   "execution_count": 2,
   "id": "22b50480",
   "metadata": {},
   "outputs": [
    {
     "name": "stdout",
     "output_type": "stream",
     "text": [
      "the name is Rohan. selary is 455. role is Student\n"
     ]
    }
   ],
   "source": [
    "class Employee:\n",
    "    def __init__(self, name, selary, role):\n",
    "        self.name = name\n",
    "        self.selary = selary\n",
    "        self.role = role\n",
    "        \n",
    "    def Printdetials(self):\n",
    "        return f\"the name is {self.name}. selary is {self.selary}. role is {self.role}\"\n",
    "    \n",
    "    def Changeleave(pls,newleave):\n",
    "        pls.no_of_leaves = newleave\n",
    "        \n",
    "    def Formdesh(pls,strinr):\n",
    "        parms = string.split(\"_\")\n",
    "        return pls(parms[0], parms[1], parms[2])\n",
    "\n",
    "rohan = Employee(\"Rohan\", 455, \"Student\")\n",
    "print(rohan.Printdetials())    "
   ]
  },
  {
   "cell_type": "code",
   "execution_count": 1,
   "id": "61c2a5d0",
   "metadata": {},
   "outputs": [
    {
     "name": "stdout",
     "output_type": "stream",
     "text": [
      "The Name is Rohan. Salary is 455 and role is Student\n"
     ]
    }
   ],
   "source": [
    "class Employee:\n",
    "\n",
    "    def __init__(self, aname, asalary, arole):\n",
    "        self.name = aname\n",
    "        self.salary = asalary\n",
    "        self.role = arole\n",
    "\n",
    "    def printdetails(self):\n",
    "        return f\"The Name is {self.name}. Salary is {self.salary} and role is {self.role}\"\n",
    "\n",
    "    @classmethod\n",
    "    def change_leaves(cls, newleaves):\n",
    "        cls.no_of_leaves = newleaves\n",
    "\n",
    "    @classmethod\n",
    "    def from_dash(cls, string):\n",
    "        params = string.split(\"-\")\n",
    "        print(params)\n",
    "        return cls(params[0], params[1], params[2])\n",
    "        # return cls(*string.split(\"-\"))\n",
    "\n",
    "\n",
    "# raj = Employee(\"raj\", 255, \"Instructor\")\n",
    "rohan = Employee(\"Rohan\", 455, \"Student\")\n",
    "# Employee.from_dash(\"Karan-480-Student\")\n",
    "print(rohan.printdetails())"
   ]
  },
  {
   "cell_type": "code",
   "execution_count": 1,
   "id": "2b778ebf",
   "metadata": {},
   "outputs": [
    {
     "name": "stdout",
     "output_type": "stream",
     "text": [
      "hello\n",
      "The Name is kapil. Salary is 255 and role is Instructor\n",
      "hello\n",
      "The Name is Harry. Salary is 455 and role is Instructor\n"
     ]
    }
   ],
   "source": [
    "class Employee:\n",
    "#     no_of_leaves = 8\n",
    "\n",
    "    def __init__(self, aname, asalary, arole):\n",
    "        self.name = aname\n",
    "        self.salary = asalary\n",
    "        self.role = arole\n",
    "        print(\"hello\")\n",
    "\n",
    "    def printdetails(self):\n",
    "        return f\"The Name is {self.name}. Salary is {self.salary} and role is {self.role}\"\n",
    "\n",
    "name='rohan'\n",
    "salary=555\n",
    "role='instructor'\n",
    "kapil = Employee(\"kapil\", 255, \"Instructor\")\n",
    "print(kapil.printdetails())\n",
    "\n",
    "rohan = Employee(name, salary, role)\n",
    "kapil.name = \"Harry\"\n",
    "kapil.salary = 455\n",
    "kapil.role = \"Instructor\"\n",
    "print(kapil.printdetails())"
   ]
  },
  {
   "cell_type": "code",
   "execution_count": 4,
   "id": "930efe75",
   "metadata": {},
   "outputs": [
    {
     "name": "stdout",
     "output_type": "stream",
     "text": [
      "this funcation is parent class\n",
      "this funcation is child class 1\n",
      "this funcation is parent class\n",
      "this funcation is child class 2\n",
      "this funcation is parent class\n"
     ]
    }
   ],
   "source": [
    "class Parent:\n",
    "    def func1(self):\n",
    "        print(\"this funcation is parent class\")\n",
    "        \n",
    "        \n",
    "class Child1(Parent):\n",
    "    def func2(self):\n",
    "        print(\"this funcation is child class 1\")\n",
    "    \n",
    "class Child2(Parent):\n",
    "    def func3(self):\n",
    "        print(\"this funcation is child class 2\")\n",
    "        \n",
    "    \n",
    "\n",
    "class Subchild(Child1, Child2):\n",
    "    def func4(self):\n",
    "          print(\"This function is in Subchild.\")\n",
    "            \n",
    "            \n",
    "            \n",
    "object1 = Child1()\n",
    "object2 = Child2()\n",
    "object1.func1()\n",
    "object1.func2()\n",
    "object2.func1()\n",
    "object2.func3()\n",
    "obj3 = Subchild()\n",
    "obj3.func1()            "
   ]
  },
  {
   "cell_type": "code",
   "execution_count": 5,
   "id": "c8ff7e6f",
   "metadata": {},
   "outputs": [
    {
     "name": "stdout",
     "output_type": "stream",
     "text": [
      "8\n",
      "{'__module__': '__main__', 'no_of_leaves': 8, '__dict__': <attribute '__dict__' of 'Employee' objects>, '__weakref__': <attribute '__weakref__' of 'Employee' objects>, '__doc__': None}\n",
      "{'__module__': '__main__', 'no_of_leaves': 9, '__dict__': <attribute '__dict__' of 'Employee' objects>, '__weakref__': <attribute '__weakref__' of 'Employee' objects>, '__doc__': None}\n",
      "9\n"
     ]
    }
   ],
   "source": [
    "\n",
    "class Employee:\n",
    "    no_of_leaves = 8\n",
    "    pass\n",
    "\n",
    "harry = Employee()\n",
    "rohan = Employee()\n",
    "\n",
    "harry.name = \"Harry\"\n",
    "harry.salary = 455\n",
    "harry.role = \"Instructor\"\n",
    "\n",
    "rohan.name = \"Rohan\"\n",
    "rohan.salary = 4554\n",
    "rohan.role = \"Student\"\n",
    "\n",
    "print(Employee.no_of_leaves)\n",
    "print(Employee.__dict__)\n",
    "Employee.no_of_leaves = 9\n",
    "print(Employee.__dict__)\n",
    "print(Employee.no_of_leaves)"
   ]
  },
  {
   "cell_type": "code",
   "execution_count": 6,
   "id": "a3b88167",
   "metadata": {},
   "outputs": [],
   "source": [
    "class Polygon:\n",
    "    def __init__(self, no_of_sides):\n",
    "        self.n = no_of_sides\n",
    "        self.sides = [0 for i in range(no_of_sides)]\n",
    "\n",
    "    def inputSides(self):\n",
    "        self.sides = [float(input(\"Enter side \"+str(i+1)+\" : \")) for i in range(self.n)]\n",
    "\n",
    "    def dispSides(self):\n",
    "        for i in range(self.n):\n",
    "            print(\"Side\",i+1,\"is\",self.sides[i])"
   ]
  },
  {
   "cell_type": "code",
   "execution_count": 7,
   "id": "5faa9eb8",
   "metadata": {},
   "outputs": [],
   "source": [
    "class Triangle(Polygon):\n",
    "    def __init__(self):\n",
    "        Polygon.__init__(self,3)\n",
    "\n",
    "    def findArea(self):\n",
    "        a, b, c = self.sides\n",
    "        # calculate the semi-perimeter\n",
    "        s = (a + b + c) / 2\n",
    "        area = (s*(s-a)*(s-b)*(s-c)) ** 0.5\n",
    "        print('The area of the triangle is %0.2f' %area)"
   ]
  },
  {
   "cell_type": "code",
   "execution_count": 9,
   "id": "503003ac",
   "metadata": {},
   "outputs": [
    {
     "ename": "SyntaxError",
     "evalue": "invalid syntax (3606412663.py, line 3)",
     "output_type": "error",
     "traceback": [
      "\u001b[0;36m  Input \u001b[0;32mIn [9]\u001b[0;36m\u001b[0m\n\u001b[0;31m    Enter side 1 : 3\u001b[0m\n\u001b[0m          ^\u001b[0m\n\u001b[0;31mSyntaxError\u001b[0m\u001b[0;31m:\u001b[0m invalid syntax\n"
     ]
    }
   ],
   "source": [
    "t = Triangle()\n",
    "t.inputSides()\n",
    "Enter side 1 : 3\n",
    "Enter side 2 : 5\n",
    "Enter side 3 : 4\n",
    "\n",
    "t.dispSides()\n",
    "Side 1 is 3.0\n",
    "Side 2 is 5.0\n",
    "Side 3 is 4.0\n",
    "\n",
    "t.findArea()\n",
    "The area of the triangle is 6.00"
   ]
  },
  {
   "cell_type": "code",
   "execution_count": 10,
   "id": "d1df824e",
   "metadata": {},
   "outputs": [],
   "source": [
    "class Person(object):\n",
    " \n",
    "    def __init__(self, name, idnumber):\n",
    "        self.name = name\n",
    "        self.idnumber = idnumber\n",
    " \n",
    "    def display(self):\n",
    "        print(self.name)\n",
    "        print(self.idnumber)\n",
    " "
   ]
  },
  {
   "cell_type": "code",
   "execution_count": 11,
   "id": "777882f3",
   "metadata": {},
   "outputs": [],
   "source": [
    "class Employee(Person):\n",
    "    def __init__(self, name, idnumber, salary, post):\n",
    "        self.salary = salary\n",
    "        self.post = post\n",
    " \n",
    "      \n",
    "        Person.__init__(self, name, idnumber)"
   ]
  },
  {
   "cell_type": "code",
   "execution_count": 12,
   "id": "cc977597",
   "metadata": {},
   "outputs": [],
   "source": [
    "a = Employee('Rahul', 886012, 200000, \"Intern\")"
   ]
  },
  {
   "cell_type": "code",
   "execution_count": 14,
   "id": "df4687e4",
   "metadata": {},
   "outputs": [
    {
     "name": "stdout",
     "output_type": "stream",
     "text": [
      "Rahul\n",
      "886012\n"
     ]
    }
   ],
   "source": [
    "a.display()"
   ]
  },
  {
   "cell_type": "markdown",
   "id": "00936264",
   "metadata": {},
   "source": [
    "# Polymorphism"
   ]
  },
  {
   "cell_type": "code",
   "execution_count": 3,
   "id": "cc4dcc30",
   "metadata": {},
   "outputs": [],
   "source": [
    "class India():\n",
    "     def capital(self):\n",
    "       print(\"New Delhi\")\n",
    " \n",
    "     def language(self):\n",
    "       print(\"Hindi and English\")"
   ]
  },
  {
   "cell_type": "code",
   "execution_count": 4,
   "id": "b936179a",
   "metadata": {},
   "outputs": [],
   "source": [
    "class USA():\n",
    "     def capital(self):\n",
    "       print(\"Washington, D.C.\")\n",
    " \n",
    "     def language(self):\n",
    "       print(\"English\")"
   ]
  },
  {
   "cell_type": "code",
   "execution_count": 5,
   "id": "cf8daeae",
   "metadata": {},
   "outputs": [
    {
     "name": "stdout",
     "output_type": "stream",
     "text": [
      "New Delhi\n",
      "Hindi and English\n",
      "Washington, D.C.\n",
      "English\n"
     ]
    }
   ],
   "source": [
    "obj_ind = India()\n",
    "obj_usa = USA()\n",
    "for country in (obj_ind, obj_usa):\n",
    "    country.capital()\n",
    "    country.language()"
   ]
  },
  {
   "cell_type": "code",
   "execution_count": 6,
   "id": "dca263c7",
   "metadata": {},
   "outputs": [],
   "source": [
    "class India():\n",
    "    def capital(self):\n",
    "        print(\"New Delhi is the capital of India.\")\n",
    " \n",
    "    def language(self):\n",
    "        print(\"Hindi is the most widely spoken language of India.\")\n",
    " \n",
    "    def type(self):\n",
    "        print(\"India is a developing country.\")"
   ]
  },
  {
   "cell_type": "code",
   "execution_count": 7,
   "id": "7f2f3eed",
   "metadata": {},
   "outputs": [],
   "source": [
    "class USA():\n",
    "    def capital(self):\n",
    "        print(\"Washington, D.C. is the capital of USA.\")\n",
    " \n",
    "    def language(self):\n",
    "        print(\"English is the primary language of USA.\")\n",
    " \n",
    "    def type(self):\n",
    "        print(\"USA is a developed country.\")"
   ]
  },
  {
   "cell_type": "code",
   "execution_count": 8,
   "id": "b243913f",
   "metadata": {},
   "outputs": [
    {
     "name": "stdout",
     "output_type": "stream",
     "text": [
      "New Delhi is the capital of India.\n",
      "Hindi is the most widely spoken language of India.\n",
      "India is a developing country.\n",
      "Washington, D.C. is the capital of USA.\n",
      "English is the primary language of USA.\n",
      "USA is a developed country.\n"
     ]
    }
   ],
   "source": [
    "obj_ind = India()\n",
    "obj_usa = USA()\n",
    "for country in (obj_ind, obj_usa):\n",
    "    country.capital()\n",
    "    country.language()\n",
    "    country.type()"
   ]
  },
  {
   "cell_type": "markdown",
   "id": "7827858d",
   "metadata": {},
   "source": [
    "# singal inheritance"
   ]
  },
  {
   "cell_type": "code",
   "execution_count": 9,
   "id": "cf04717f",
   "metadata": {},
   "outputs": [],
   "source": [
    "class vehicle:\n",
    "    def __init__(self,milage,cost):\n",
    "        self.milage = milage\n",
    "        self.cost = cost\n",
    "        \n",
    "    def show_vehicle(self):\n",
    "        print(\"Milage of vichle is\",self.milage)\n",
    "        print(\"Cost of vechle is\",self.cost)\n",
    "        print(\"I am a vichle\")"
   ]
  },
  {
   "cell_type": "code",
   "execution_count": 10,
   "id": "6a3c3a1e",
   "metadata": {},
   "outputs": [],
   "source": [
    "v1 = vehicle(200,1255)"
   ]
  },
  {
   "cell_type": "code",
   "execution_count": 11,
   "id": "09802bac",
   "metadata": {},
   "outputs": [
    {
     "name": "stdout",
     "output_type": "stream",
     "text": [
      "Milage of vichle is 200\n",
      "Cost of vechle is 1255\n",
      "I am a vichle\n"
     ]
    }
   ],
   "source": [
    "v1.show_vehicle()"
   ]
  },
  {
   "cell_type": "code",
   "execution_count": 12,
   "id": "b89016c9",
   "metadata": {},
   "outputs": [],
   "source": [
    "class Car(vehicle):\n",
    "    def show_car_detials(self):\n",
    "        print(\"I am a car\")"
   ]
  },
  {
   "cell_type": "code",
   "execution_count": 13,
   "id": "66e5780e",
   "metadata": {},
   "outputs": [],
   "source": [
    "c1 = Car(200,124)"
   ]
  },
  {
   "cell_type": "code",
   "execution_count": 14,
   "id": "4eba8d71",
   "metadata": {},
   "outputs": [
    {
     "name": "stdout",
     "output_type": "stream",
     "text": [
      "Milage of vichle is 200\n",
      "Cost of vechle is 124\n",
      "I am a vichle\n"
     ]
    }
   ],
   "source": [
    "c1.show_vehicle()"
   ]
  },
  {
   "cell_type": "code",
   "execution_count": 15,
   "id": "5fbbf18f",
   "metadata": {},
   "outputs": [
    {
     "name": "stdout",
     "output_type": "stream",
     "text": [
      "I am a car\n"
     ]
    }
   ],
   "source": [
    "c1.show_car_detials()"
   ]
  },
  {
   "cell_type": "code",
   "execution_count": 16,
   "id": "03bf1259",
   "metadata": {},
   "outputs": [],
   "source": [
    "class vehicle:\n",
    "    def __init__(self,milage,cost):\n",
    "        self.milage = milage\n",
    "        self.cost = cost\n",
    "        \n",
    "    def show_vehicle(self):\n",
    "        print(\"Milage of vichle is\",self.milage)\n",
    "        print(\"Cost of vechle is\",self.cost)\n",
    "        print(\"I am a vichle\")"
   ]
  },
  {
   "cell_type": "code",
   "execution_count": 17,
   "id": "b6d2e880",
   "metadata": {},
   "outputs": [],
   "source": [
    "v1 = vehicle(200,1255)"
   ]
  },
  {
   "cell_type": "code",
   "execution_count": 18,
   "id": "f407ad7d",
   "metadata": {},
   "outputs": [],
   "source": [
    "class Car(vehicle):\n",
    "    def __init__(self,milage,cost,tyres,hp):\n",
    "        super().__init__(milage,cost)\n",
    "        self.tyres = tyres\n",
    "        self.hp = hp\n",
    "        \n",
    "    def show_car_detials(self):\n",
    "        print(\"Number of tyres in a car\",self.tyres)\n",
    "        print(\"Horse power in a car\",self.hp)\n",
    "        print(\"i am a car\")\n",
    "        \n",
    "    "
   ]
  },
  {
   "cell_type": "code",
   "execution_count": 19,
   "id": "51afef0b",
   "metadata": {},
   "outputs": [],
   "source": [
    "c1=Car(600,1200000,8,999)\n"
   ]
  },
  {
   "cell_type": "code",
   "execution_count": 20,
   "id": "b1d330b8",
   "metadata": {},
   "outputs": [
    {
     "name": "stdout",
     "output_type": "stream",
     "text": [
      "Milage of vichle is 600\n",
      "Cost of vechle is 1200000\n",
      "I am a vichle\n"
     ]
    }
   ],
   "source": [
    "c1.show_vehicle()"
   ]
  },
  {
   "cell_type": "markdown",
   "id": "4b5956f1",
   "metadata": {},
   "source": [
    "# multipal inheritance"
   ]
  },
  {
   "cell_type": "code",
   "execution_count": 21,
   "id": "f095af71",
   "metadata": {},
   "outputs": [],
   "source": [
    "class Prent1:\n",
    "    def assign_string_one(self,str1):\n",
    "        self.str1 = str1\n",
    "    def show_string_one(self):\n",
    "        return self.str1"
   ]
  },
  {
   "cell_type": "code",
   "execution_count": 22,
   "id": "15ce8555",
   "metadata": {},
   "outputs": [],
   "source": [
    "class Prent2:\n",
    "    def assign_string_two(self,str2):\n",
    "        self.str2 = str2\n",
    "    def show_string_two(self):\n",
    "        return self.str2        "
   ]
  },
  {
   "cell_type": "code",
   "execution_count": 23,
   "id": "b81c0dc1",
   "metadata": {},
   "outputs": [],
   "source": [
    "class Child(Prent1,Prent2):\n",
    "    def assign_string_three(self,str3):\n",
    "        self.str3 = str3\n",
    "    def show_string_three(self):\n",
    "        return self.str3\n",
    "        "
   ]
  },
  {
   "cell_type": "code",
   "execution_count": 24,
   "id": "94378c24",
   "metadata": {},
   "outputs": [],
   "source": [
    "my_child = Child()"
   ]
  },
  {
   "cell_type": "code",
   "execution_count": 25,
   "id": "89997cc7",
   "metadata": {},
   "outputs": [],
   "source": [
    "my_child.assign_string_one(\"i am a prent 1\")"
   ]
  },
  {
   "cell_type": "code",
   "execution_count": 26,
   "id": "9b766b10",
   "metadata": {},
   "outputs": [],
   "source": [
    "my_child.assign_string_two(\"i am a prent 2\")"
   ]
  },
  {
   "cell_type": "code",
   "execution_count": 27,
   "id": "07839dc2",
   "metadata": {},
   "outputs": [],
   "source": [
    "my_child.assign_string_three(\"i am a string of child\")"
   ]
  },
  {
   "cell_type": "code",
   "execution_count": 28,
   "id": "31fd9a61",
   "metadata": {},
   "outputs": [
    {
     "data": {
      "text/plain": [
       "'i am a prent 1'"
      ]
     },
     "execution_count": 28,
     "metadata": {},
     "output_type": "execute_result"
    }
   ],
   "source": [
    "my_child.show_string_one()"
   ]
  },
  {
   "cell_type": "code",
   "execution_count": 29,
   "id": "c713ef94",
   "metadata": {},
   "outputs": [
    {
     "data": {
      "text/plain": [
       "'i am a prent 2'"
      ]
     },
     "execution_count": 29,
     "metadata": {},
     "output_type": "execute_result"
    }
   ],
   "source": [
    "my_child.show_string_two()"
   ]
  },
  {
   "cell_type": "code",
   "execution_count": 30,
   "id": "2345a39c",
   "metadata": {},
   "outputs": [
    {
     "data": {
      "text/plain": [
       "'i am a string of child'"
      ]
     },
     "execution_count": 30,
     "metadata": {},
     "output_type": "execute_result"
    }
   ],
   "source": [
    "my_child.show_string_three()"
   ]
  },
  {
   "cell_type": "markdown",
   "id": "2515781b",
   "metadata": {},
   "source": [
    "# multy_level inheritance"
   ]
  },
  {
   "cell_type": "code",
   "execution_count": 31,
   "id": "f7257150",
   "metadata": {},
   "outputs": [],
   "source": [
    "class Prent:\n",
    "    def get_name(self,name):\n",
    "        self.name = name\n",
    "    def show_name(self):\n",
    "        return self.name\n",
    "        "
   ]
  },
  {
   "cell_type": "code",
   "execution_count": 32,
   "id": "04ca64b6",
   "metadata": {},
   "outputs": [],
   "source": [
    "class child(Prent):\n",
    "    def get_age(self,age):\n",
    "        self.age = age\n",
    "    def show_age(self):\n",
    "        return self.age\n",
    "        "
   ]
  },
  {
   "cell_type": "code",
   "execution_count": 33,
   "id": "f412a351",
   "metadata": {},
   "outputs": [],
   "source": [
    "class Grendchild(child):\n",
    "    def get_gender(self,gender):\n",
    "        self.gender = gender\n",
    "    def show_gender(self):\n",
    "        return self.gender\n",
    "        "
   ]
  },
  {
   "cell_type": "code",
   "execution_count": 34,
   "id": "578937a2",
   "metadata": {},
   "outputs": [],
   "source": [
    "gc = Grendchild()"
   ]
  },
  {
   "cell_type": "code",
   "execution_count": 35,
   "id": "685c3a9a",
   "metadata": {},
   "outputs": [],
   "source": [
    "gc.get_name(\"mukesh\")"
   ]
  },
  {
   "cell_type": "code",
   "execution_count": 36,
   "id": "c9276fac",
   "metadata": {},
   "outputs": [],
   "source": [
    "gc.get_age(26)"
   ]
  },
  {
   "cell_type": "code",
   "execution_count": 37,
   "id": "9e4c884a",
   "metadata": {},
   "outputs": [],
   "source": [
    "gc.get_gender(\"Male\")"
   ]
  },
  {
   "cell_type": "code",
   "execution_count": 38,
   "id": "a8426809",
   "metadata": {},
   "outputs": [
    {
     "data": {
      "text/plain": [
       "'mukesh'"
      ]
     },
     "execution_count": 38,
     "metadata": {},
     "output_type": "execute_result"
    }
   ],
   "source": [
    "gc.show_name()"
   ]
  },
  {
   "cell_type": "code",
   "execution_count": 39,
   "id": "d344b4c2",
   "metadata": {},
   "outputs": [
    {
     "data": {
      "text/plain": [
       "26"
      ]
     },
     "execution_count": 39,
     "metadata": {},
     "output_type": "execute_result"
    }
   ],
   "source": [
    "gc.show_age()"
   ]
  },
  {
   "cell_type": "code",
   "execution_count": 40,
   "id": "69f8839a",
   "metadata": {},
   "outputs": [
    {
     "data": {
      "text/plain": [
       "'Male'"
      ]
     },
     "execution_count": 40,
     "metadata": {},
     "output_type": "execute_result"
    }
   ],
   "source": [
    "gc.show_gender()"
   ]
  }
 ],
 "metadata": {
  "kernelspec": {
   "display_name": "Python 3 (ipykernel)",
   "language": "python",
   "name": "python3"
  },
  "language_info": {
   "codemirror_mode": {
    "name": "ipython",
    "version": 3
   },
   "file_extension": ".py",
   "mimetype": "text/x-python",
   "name": "python",
   "nbconvert_exporter": "python",
   "pygments_lexer": "ipython3",
   "version": "3.9.7"
  }
 },
 "nbformat": 4,
 "nbformat_minor": 5
}
