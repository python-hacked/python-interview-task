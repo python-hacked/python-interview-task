{
 "cells": [
  {
   "cell_type": "code",
   "execution_count": 1,
   "id": "182f8ace",
   "metadata": {},
   "outputs": [],
   "source": [
    "def get_squre_numbers(numbers):\n",
    "    squre_numbers = []\n",
    "    for n in numbers:\n",
    "        squre_numbers.append(n*n)\n",
    "        return squre_numbers"
   ]
  },
  {
   "cell_type": "code",
   "execution_count": 3,
   "id": "fee6c62d",
   "metadata": {},
   "outputs": [
    {
     "data": {
      "text/plain": [
       "[25]"
      ]
     },
     "execution_count": 3,
     "metadata": {},
     "output_type": "execute_result"
    }
   ],
   "source": [
    "numbers = [5]\n",
    "get_squre_numbers(numbers)"
   ]
  },
  {
   "cell_type": "markdown",
   "id": "c830c59b",
   "metadata": {},
   "source": [
    " Find the largest number among three numbers"
   ]
  },
  {
   "cell_type": "code",
   "execution_count": 11,
   "id": "903a2a6b",
   "metadata": {},
   "outputs": [],
   "source": [
    "f = open(\"star.txt\",\"w\")\n",
    "f.write(\"hello this is a file hendling\")\n",
    "f.close()"
   ]
  },
  {
   "cell_type": "code",
   "execution_count": 12,
   "id": "d8b79be2",
   "metadata": {},
   "outputs": [
    {
     "name": "stdout",
     "output_type": "stream",
     "text": [
      "hello this is a file hendling\n"
     ]
    }
   ],
   "source": [
    "f= open(\"star.txt\",\"r\")\n",
    "print(f.read())"
   ]
  },
  {
   "cell_type": "code",
   "execution_count": 21,
   "id": "d9cf8745",
   "metadata": {},
   "outputs": [],
   "source": [
    "f = open(\"star.txt\", \"a\")\n",
    "f.write(\"this is a new line add\")\n",
    "f.close()"
   ]
  },
  {
   "cell_type": "code",
   "execution_count": 22,
   "id": "9695c9c1",
   "metadata": {},
   "outputs": [
    {
     "name": "stdout",
     "output_type": "stream",
     "text": [
      "hello i am a python\n",
      "hello i am a javascript\n",
      "hello i am a c++\n",
      "hello i am a html\n",
      "this is a new line add/nthis is a new line add\n",
      "\n"
     ]
    }
   ],
   "source": [
    "f = open(\"star.txt\",\"r\")\n",
    "print(f.read())"
   ]
  },
  {
   "cell_type": "code",
   "execution_count": 23,
   "id": "6e6c709d",
   "metadata": {},
   "outputs": [],
   "source": [
    "f = open(\"star.txt\",\"w\")\n",
    "f.write(\"hello i am a python\\n\")\n",
    "f.write(\"hello i am a javascript\\n\")\n",
    "f.write(\"hello i am a c++\\n\")\n",
    "f.write(\"hello i am a html\\n\")\n",
    "\n",
    "f.close()"
   ]
  },
  {
   "cell_type": "code",
   "execution_count": 24,
   "id": "0f74aab9",
   "metadata": {},
   "outputs": [],
   "source": [
    "f = open(\"star.csv\", \"w\")\n",
    "f.write(\"120\")\n",
    "f.close()"
   ]
  },
  {
   "cell_type": "code",
   "execution_count": 26,
   "id": "a5a7033d",
   "metadata": {},
   "outputs": [
    {
     "name": "stdout",
     "output_type": "stream",
     "text": [
      "120,1200000\n",
      "\n"
     ]
    }
   ],
   "source": [
    "f = open(\"star.csv\",\"r\")\n",
    "print(f.read())"
   ]
  },
  {
   "cell_type": "code",
   "execution_count": 1,
   "id": "2675cb43",
   "metadata": {},
   "outputs": [],
   "source": [
    "s = open(\"index.txt\",\"w\")"
   ]
  },
  {
   "cell_type": "code",
   "execution_count": 2,
   "id": "10cd42e5",
   "metadata": {},
   "outputs": [],
   "source": [
    "s = open(\"index.txt\",\"w\")\n",
    "s.write(\"this is my python file\")\n",
    "s.close()"
   ]
  },
  {
   "cell_type": "code",
   "execution_count": 3,
   "id": "81186330",
   "metadata": {},
   "outputs": [
    {
     "data": {
      "text/plain": [
       "'this is my python file'"
      ]
     },
     "execution_count": 3,
     "metadata": {},
     "output_type": "execute_result"
    }
   ],
   "source": [
    "s = open(\"index.txt\", \"r\")\n",
    "s.read()\n"
   ]
  },
  {
   "cell_type": "code",
   "execution_count": 4,
   "id": "248ff010",
   "metadata": {},
   "outputs": [],
   "source": [
    "aman = open(\"index2.csv\",\"w\")\n",
    "aman.write(\"120000\")\n",
    "aman.close()"
   ]
  },
  {
   "cell_type": "code",
   "execution_count": 6,
   "id": "1b5f0b36",
   "metadata": {},
   "outputs": [],
   "source": [
    "import os"
   ]
  },
  {
   "cell_type": "code",
   "execution_count": 7,
   "id": "e80c6ab0",
   "metadata": {},
   "outputs": [],
   "source": [
    "os.remove(\"index2.csv\")"
   ]
  },
  {
   "cell_type": "code",
   "execution_count": 4,
   "id": "0d9a080d",
   "metadata": {},
   "outputs": [
    {
     "name": "stdout",
     "output_type": "stream",
     "text": [
      "20\n",
      "30\n",
      "40\n",
      "50\n",
      "60\n",
      "70\n",
      "80\n",
      "90\n"
     ]
    }
   ],
   "source": [
    "a = [20,30,40,50,60,70,80,90,100]\n",
    "a.remove(100)\n",
    "for x in a:\n",
    "    print(x)"
   ]
  },
  {
   "cell_type": "code",
   "execution_count": 5,
   "id": "1046d544",
   "metadata": {},
   "outputs": [
    {
     "name": "stdout",
     "output_type": "stream",
     "text": [
      "90\n"
     ]
    }
   ],
   "source": [
    "a.remove(40)\n",
    "print(x)"
   ]
  },
  {
   "cell_type": "code",
   "execution_count": 6,
   "id": "73324c67",
   "metadata": {},
   "outputs": [],
   "source": [
    "from array import *"
   ]
  },
  {
   "cell_type": "code",
   "execution_count": 7,
   "id": "f6f8a16b",
   "metadata": {},
   "outputs": [
    {
     "name": "stdout",
     "output_type": "stream",
     "text": [
      "3\n"
     ]
    }
   ],
   "source": [
    "array1 = array('i', [10,20,30,40,50])\n",
    "\n",
    "print (array1.index(40))"
   ]
  },
  {
   "cell_type": "code",
   "execution_count": 8,
   "id": "3d0afbde",
   "metadata": {},
   "outputs": [],
   "source": [
    "list1 = ['physics', 'chemistry', 1997, 2000]\n",
    "list2 = [1, 2, 3, 4, 5 ]\n",
    "list3 = [\"a\", \"b\", \"c\", \"d\"]"
   ]
  },
  {
   "cell_type": "code",
   "execution_count": 14,
   "id": "fa1af934",
   "metadata": {},
   "outputs": [
    {
     "name": "stdout",
     "output_type": "stream",
     "text": [
      "list1[0]: physics\n"
     ]
    }
   ],
   "source": [
    "print (\"list1[0]:\" ,(list1[0]))"
   ]
  },
  {
   "cell_type": "code",
   "execution_count": 15,
   "id": "fdfd96fb",
   "metadata": {},
   "outputs": [
    {
     "name": "stdout",
     "output_type": "stream",
     "text": [
      "[2, 3, 4, 5]\n"
     ]
    }
   ],
   "source": [
    "print(list2[1:5],)"
   ]
  },
  {
   "cell_type": "code",
   "execution_count": 7,
   "id": "185091a6",
   "metadata": {},
   "outputs": [],
   "source": [
    "class x:\n",
    "    def __init__(self,val):\n",
    "        self.val = val\n",
    "        \n",
    "    def getindex(li,target):\n",
    "        for index,x in enumerate(li):\n",
    "            if x.val == target:\n",
    "                return index\n",
    "            return -1\n",
    "        \n",
    "        "
   ]
  },
  {
   "cell_type": "code",
   "execution_count": 8,
   "id": "cebe3020",
   "metadata": {},
   "outputs": [],
   "source": [
    "li = [1,2,3,4,5,6,7,8]"
   ]
  },
  {
   "cell_type": "code",
   "execution_count": 9,
   "id": "7c4cd090",
   "metadata": {},
   "outputs": [],
   "source": [
    "a = list()\n",
    "for i in li:\n",
    "    a.append(x(i))"
   ]
  },
  {
   "cell_type": "code",
   "execution_count": 11,
   "id": "fc93dbe8",
   "metadata": {},
   "outputs": [
    {
     "name": "stdout",
     "output_type": "stream",
     "text": [
      "[3, 11, 26, 41, 4, 12, 27, 42, 5, 13, 28, 43, 6, 14, 29, 44]\n"
     ]
    }
   ],
   "source": [
    "first = [1,2,3,4]\n",
    "secand = [2,10,25,40]\n",
    "final = []\n",
    "\n",
    "for i in first:\n",
    "    for j in secand:\n",
    "        final.append(i+j)\n",
    "print(final)        "
   ]
  },
  {
   "cell_type": "code",
   "execution_count": 12,
   "id": "806a1092",
   "metadata": {},
   "outputs": [
    {
     "name": "stdout",
     "output_type": "stream",
     "text": [
      "[1, 2, 3, 4, 5, 6, 2, 45, 85, 78, 9]\n"
     ]
    }
   ],
   "source": [
    "a = [1,2,3,4,5,6]\n",
    "b = [2,45,85,78,9]\n",
    "c = a+b\n",
    "print(c)"
   ]
  },
  {
   "cell_type": "code",
   "execution_count": 14,
   "id": "40cec9f6",
   "metadata": {},
   "outputs": [
    {
     "name": "stdout",
     "output_type": "stream",
     "text": [
      "[3, 11, 26, 41, 4, 12, 27, 42, 5, 13, 28, 43, 6, 14, 29, 44]\n"
     ]
    }
   ],
   "source": [
    "s = [1,2,3,4]\n",
    "d = [2,10,25,40]\n",
    "final = [i+j for i in s for j in d]\n",
    "print(final)"
   ]
  },
  {
   "cell_type": "code",
   "execution_count": 16,
   "id": "cc72ae83",
   "metadata": {},
   "outputs": [
    {
     "name": "stdout",
     "output_type": "stream",
     "text": [
      "[<class '__main__.x'>, <class '__main__.x'>]\n"
     ]
    }
   ],
   "source": [
    "f1 = [\"anamika\", \"mutul\", \"gita\"]\n",
    "f2 = []\n",
    "for i in f1:\n",
    "    if \"a\" in i:\n",
    "        f2.append(x)\n",
    "print(f2)   "
   ]
  },
  {
   "cell_type": "code",
   "execution_count": 20,
   "id": "cef0d746",
   "metadata": {},
   "outputs": [],
   "source": [
    "class person:\n",
    "    def __init__(self):\n",
    "        pass\n",
    "    \n",
    "    def getage(self):\n",
    "        print (__name__)"
   ]
  },
  {
   "cell_type": "code",
   "execution_count": 21,
   "id": "63a6bf87",
   "metadata": {},
   "outputs": [],
   "source": [
    "p = person()"
   ]
  },
  {
   "cell_type": "code",
   "execution_count": 22,
   "id": "0c2b73a0",
   "metadata": {},
   "outputs": [],
   "source": [
    "\n",
    "daysOfWeek = ['Monday',\n",
    "              'Tuesday',\n",
    "              'Wednesday',\n",
    "              'Thursday',\n",
    "              'Friday',\n",
    "              'Saturday',\n",
    "              'Sunday']\n",
    "\n",
    "\n",
    "\n",
    "months =             ['Jan', \\\n",
    "                      'Feb', \\\n",
    "                      'Mar', \\\n",
    "                      'Apr', \\\n",
    "                      'May', \\\n",
    "                      'Jun', \\\n",
    "                      'Jul', \\\n",
    "                      'Aug', \\\n",
    "                      'Sep', \\\n",
    "                      'Oct', \\\n",
    "                      'Nov', \\\n",
    "                      'Dec']"
   ]
  },
  {
   "cell_type": "code",
   "execution_count": 27,
   "id": "d7d746f0",
   "metadata": {},
   "outputs": [
    {
     "name": "stdout",
     "output_type": "stream",
     "text": [
      "DAYS: %s, MONTHS %s\n"
     ]
    }
   ],
   "source": [
    "print (\"DAYS: %s, MONTHS %s\" )\n"
   ]
  },
  {
   "cell_type": "code",
   "execution_count": 28,
   "id": "8c14c586",
   "metadata": {},
   "outputs": [],
   "source": [
    "names1 = ['Amir', 'Barry', 'Chales', 'Dao']"
   ]
  },
  {
   "cell_type": "code",
   "execution_count": 30,
   "id": "1fc0a542",
   "metadata": {},
   "outputs": [],
   "source": [
    "x = True\n",
    "y = False\n",
    "z = False"
   ]
  },
  {
   "cell_type": "code",
   "execution_count": 33,
   "id": "8ce56edf",
   "metadata": {},
   "outputs": [
    {
     "name": "stdout",
     "output_type": "stream",
     "text": [
      "3\n"
     ]
    }
   ],
   "source": [
    "if not x or y:\n",
    "    print (1)\n",
    "elif not x or not y and z:\n",
    "    print (2)\n",
    "elif not x or y or not y and x:\n",
    "    print (3)\n",
    "else:\n",
    "    print (4)"
   ]
  },
  {
   "cell_type": "code",
   "execution_count": 34,
   "id": "6aee275c",
   "metadata": {},
   "outputs": [],
   "source": [
    "class NumFactory:\n",
    "    def __init__(self, n):\n",
    "        self.val = n\n",
    "    def timesTwo(self):\n",
    "        self.val *= 2\n",
    "    def plusTwo(self):\n",
    "        self.val += 2"
   ]
  },
  {
   "cell_type": "code",
   "execution_count": 35,
   "id": "04b72b4c",
   "metadata": {},
   "outputs": [],
   "source": [
    "f = NumFactory(2)"
   ]
  },
  {
   "cell_type": "code",
   "execution_count": 38,
   "id": "629258ab",
   "metadata": {},
   "outputs": [
    {
     "name": "stdout",
     "output_type": "stream",
     "text": [
      "2\n",
      "2\n",
      "2\n",
      "2\n",
      "2\n",
      "2\n",
      "2\n",
      "2\n",
      "2\n",
      "2\n",
      "2\n",
      "2\n",
      "2\n",
      "2\n",
      "2\n",
      "2\n",
      "2\n",
      "2\n",
      "2\n",
      "2\n",
      "2\n",
      "2\n",
      "2\n",
      "2\n",
      "2\n",
      "2\n",
      "2\n",
      "2\n",
      "2\n"
     ]
    }
   ],
   "source": [
    "for m in dir(f):\n",
    "    mthd = getattr(f,m)\n",
    "    if callable(mthd):\n",
    "        mthd\n",
    "    print(f.val)"
   ]
  },
  {
   "cell_type": "code",
   "execution_count": 39,
   "id": "eab5013a",
   "metadata": {},
   "outputs": [],
   "source": [
    "import re\n",
    "sum = 0"
   ]
  },
  {
   "cell_type": "code",
   "execution_count": 40,
   "id": "79b04650",
   "metadata": {},
   "outputs": [],
   "source": [
    "pattern = 'back'"
   ]
  },
  {
   "cell_type": "code",
   "execution_count": 41,
   "id": "9432d2f2",
   "metadata": {},
   "outputs": [],
   "source": [
    "if re.match(pattern, 'backup.txt'):\n",
    "    sum += 1\n",
    "if re.match(pattern, 'text.back'):\n",
    "    sum += 2\n",
    "if re.search(pattern, 'backup.txt'):\n",
    "    sum += 4\n",
    "if re.search(pattern, 'text.back'):\n",
    "    sum += 8"
   ]
  },
  {
   "cell_type": "code",
   "execution_count": 42,
   "id": "854bc31a",
   "metadata": {},
   "outputs": [
    {
     "name": "stdout",
     "output_type": "stream",
     "text": [
      "13\n"
     ]
    }
   ],
   "source": [
    "print (sum)"
   ]
  },
  {
   "cell_type": "code",
   "execution_count": 43,
   "id": "7a641243",
   "metadata": {},
   "outputs": [],
   "source": [
    "names1 = ['Amir', 'Barry', 'Chales', 'Dao']"
   ]
  },
  {
   "cell_type": "code",
   "execution_count": 44,
   "id": "832a87a8",
   "metadata": {},
   "outputs": [],
   "source": [
    "names2 = [name.lower() for name in names1]"
   ]
  },
  {
   "cell_type": "code",
   "execution_count": 46,
   "id": "8de1e6c5",
   "metadata": {},
   "outputs": [
    {
     "name": "stdout",
     "output_type": "stream",
     "text": [
      "c\n"
     ]
    }
   ],
   "source": [
    "print (names2[2][0])"
   ]
  },
  {
   "cell_type": "code",
   "execution_count": 1,
   "id": "5b608f4d",
   "metadata": {},
   "outputs": [
    {
     "name": "stdout",
     "output_type": "stream",
     "text": [
      "['ankita', 'anamika', 'mohan']\n"
     ]
    }
   ],
   "source": [
    "LIST1 = [\"ankita\",\"anamika\",\"mohan\",\"kkk\" ]\n",
    "list2 = []\n",
    "for x in LIST1:\n",
    "    if  \"a\" in x:\n",
    "        list2.append(x)\n",
    "print(list2)        "
   ]
  },
  {
   "cell_type": "code",
   "execution_count": 51,
   "id": "a7a0daa6",
   "metadata": {},
   "outputs": [
    {
     "name": "stdout",
     "output_type": "stream",
     "text": [
      "['ankita', 'anamika', 'mohan', 'kkka']\n"
     ]
    }
   ],
   "source": [
    "LIST1 = [\"ankita\",\"anamika\",\"mohan\",\"kkka\" ]\n",
    "list2 = [x for x in LIST1 if \"a\" in x]\n",
    "print(list2)"
   ]
  },
  {
   "cell_type": "code",
   "execution_count": 52,
   "id": "ff6f2933",
   "metadata": {},
   "outputs": [
    {
     "name": "stdout",
     "output_type": "stream",
     "text": [
      "[0, 10, 20, 30, 40, 50, 60, 70, 80, 90]\n"
     ]
    }
   ],
   "source": [
    "my_list = [y for y in range(100) if y %2 == 0 if y %5 ==0]\n",
    "print(my_list)"
   ]
  },
  {
   "cell_type": "code",
   "execution_count": 56,
   "id": "a8700ef7",
   "metadata": {},
   "outputs": [
    {
     "name": "stdout",
     "output_type": "stream",
     "text": [
      "['odd', 'even', 'odd', 'even', 'odd', 'even', 'odd', 'even', 'odd', 'even']\n"
     ]
    }
   ],
   "source": [
    "obj = [\"even\" if i%2 else\"odd\" for i in range(10)]\n",
    "print(obj)"
   ]
  },
  {
   "cell_type": "code",
   "execution_count": 58,
   "id": "7b158fb5",
   "metadata": {},
   "outputs": [
    {
     "name": "stdout",
     "output_type": "stream",
     "text": [
      "[[1, 5], [2, 6], [3, 7], [4, 8]]\n"
     ]
    }
   ],
   "source": [
    "# Transposed\n",
    "transposed = []\n",
    "metrix = [[1,2,3,4],[5,6,7,8]]\n",
    "\n",
    "for i in range(len(metrix[0])):\n",
    "    transposed_row = []\n",
    "    \n",
    "    for row in metrix:\n",
    "        transposed_row.append(row[i])\n",
    "     \n",
    "    transposed.append(transposed_row)\n",
    "    \n",
    "print(transposed)    "
   ]
  },
  {
   "cell_type": "code",
   "execution_count": 63,
   "id": "5384d0d6",
   "metadata": {},
   "outputs": [
    {
     "name": "stdout",
     "output_type": "stream",
     "text": [
      "[[1, 3, 5, 7], [2, 4, 6, 8]]\n"
     ]
    }
   ],
   "source": [
    "metrix = [1,2],[3,4],[5,6],[7,8]\n",
    "transposedd = [[row[i] for row in metrix]for i in range(2)] #one line of code\n",
    "print(transposedd)"
   ]
  },
  {
   "cell_type": "code",
   "execution_count": 64,
   "id": "d189675d",
   "metadata": {},
   "outputs": [
    {
     "name": "stdout",
     "output_type": "stream",
     "text": [
      "[-64, -26, -15, 1, 15, 23, 23, 76]\n"
     ]
    }
   ],
   "source": [
    "my_list = [-15, -26, 15, 1, 23, -64, 23, 76]\n",
    "new_list = []\n",
    "\n",
    "while my_list:\n",
    "    min = my_list[0]  \n",
    "    for x in my_list: \n",
    "        if x < min:\n",
    "            min = x\n",
    "    new_list.append(min)\n",
    "    my_list.remove(min)    \n",
    "\n",
    "print(new_list)"
   ]
  },
  {
   "cell_type": "code",
   "execution_count": 67,
   "id": "34534b30",
   "metadata": {},
   "outputs": [
    {
     "name": "stdout",
     "output_type": "stream",
     "text": [
      "[-64, -26, -15, 1, 15, 23, 23, 76]\n"
     ]
    }
   ],
   "source": [
    "my_list = [-15, -26, 15, 1, 23, -64, 23, 76]\n",
    "my_list.sort()\n",
    "print(my_list)"
   ]
  },
  {
   "cell_type": "code",
   "execution_count": 71,
   "id": "888cf12f",
   "metadata": {},
   "outputs": [
    {
     "name": "stdout",
     "output_type": "stream",
     "text": [
      "[-23, -6, -5, 0, 5, 23, 23, 67]\n"
     ]
    }
   ],
   "source": [
    "data_list = [-5, -23, 5, 0, 23, -6, 23, 67]\n",
    "new_list = []\n",
    "\n",
    "while data_list:\n",
    "    minimum = data_list[0]  # arbitrary number in list \n",
    "    for x in data_list: \n",
    "        if x < minimum:\n",
    "            minimum = x\n",
    "    new_list.append(minimum)\n",
    "    data_list.remove(minimum)    \n",
    "\n",
    "print (new_list)"
   ]
  },
  {
   "cell_type": "code",
   "execution_count": 10,
   "id": "55371d0d",
   "metadata": {},
   "outputs": [
    {
     "name": "stdout",
     "output_type": "stream",
     "text": [
      "New dictionary with empty lists as keys : {0: None, 1: None, 2: None, 3: None}\n"
     ]
    }
   ],
   "source": [
    "new_dict = dict.fromkeys(range(4),)\n",
    "print (\"New dictionary with empty lists as keys : \" + str(new_dict))"
   ]
  },
  {
   "cell_type": "code",
   "execution_count": 15,
   "id": "b8127014",
   "metadata": {},
   "outputs": [],
   "source": [
    "def find_subarray(arr, n, required):\n",
    "\n",
    "    for i in range(n):\n",
    "        sum = arr[i]\n",
    "        j = i + 1\n",
    "        while j <= n:\n",
    "            if sum == required:\n",
    "                return true\n",
    "            if sum > required or j == n:\n",
    "                break\n",
    "            sum = sum + arr[j]\n",
    "            j += 1\n",
    "    return false"
   ]
  },
  {
   "cell_type": "code",
   "execution_count": 31,
   "id": "0cbe50c6",
   "metadata": {},
   "outputs": [
    {
     "name": "stdout",
     "output_type": "stream",
     "text": [
      "[9, 3, 1, 2, 3, 5, 7, 8, 0, 2, 3, 4, 5, 1, 1, 7, 7, 7, 9, 9, 8, 7, 3, 3, 2, 2, 3, 5, 6, 7]\n"
     ]
    }
   ],
   "source": [
    "arr = [2,9,3,1,2,3,5,7,8,0,2,3,4,5,1,0,7,6,7,9,8,7,6,3,2,1,2,3,5,6,7]\n",
    "new_arr = []\n",
    "for i in range (0,len(arr)-1):\n",
    "    if arr[i+1] - arr[i] == 1:\n",
    "          new_arr.append(arr[i])\n",
    "    else:\n",
    "        new_arr.append(arr[i+1])\n",
    "print(new_arr)"
   ]
  },
  {
   "cell_type": "code",
   "execution_count": 63,
   "id": "da7e89ce",
   "metadata": {},
   "outputs": [],
   "source": [
    "# arr = [1,0,1,2,3,7,8,9,6,7,8]\n",
    "arr = [2,9,3,1,2,3,5,7,8,0,2,3,4,5,1,0,7,6,7,9,8,7,6,3,2,1,2,3,5,6,7]\n",
    "\n",
    "tamp_arr = []\n",
    "\n",
    "def add_items(item):\n",
    "    if item not in tamp_arr:\n",
    "        tamp_arr.append(item)\n",
    "        return tamp_arr\n",
    "    \n",
    "final_arr = []\n",
    "\n",
    "for i in range(0,len(arr)-1):\n",
    "    if arr[i+1] - arr[i] == 1:\n",
    "        add_items(arr[i])\n",
    "        add_items(arr[i+1])\n",
    "    else:\n",
    "        if tamp_arr:\n",
    "            final_arr.append(tamp_arr)\n",
    "            tamp_arr = []"
   ]
  },
  {
   "cell_type": "code",
   "execution_count": 64,
   "id": "5fc2eef2",
   "metadata": {},
   "outputs": [
    {
     "name": "stdout",
     "output_type": "stream",
     "text": [
      "[[1, 2, 3], [7, 8], [2, 3, 4, 5], [6, 7], [1, 2, 3]]\n"
     ]
    }
   ],
   "source": [
    "print(final_arr)            "
   ]
  },
  {
   "cell_type": "code",
   "execution_count": 3,
   "id": "c58fa463",
   "metadata": {},
   "outputs": [],
   "source": [
    "arr = [2,9,3,1,2,3,5,7,8,0,2,3,4,5,1,0,7,6,7,9,8,7,6,3,2,1,2,3,5,6,7]"
   ]
  },
  {
   "cell_type": "code",
   "execution_count": 6,
   "id": "8b9ad936",
   "metadata": {},
   "outputs": [
    {
     "ename": "SyntaxError",
     "evalue": "invalid syntax (3874362977.py, line 10)",
     "output_type": "error",
     "traceback": [
      "\u001b[0;36m  Input \u001b[0;32mIn [6]\u001b[0;36m\u001b[0m\n\u001b[0;31m    if len(arr) == 1 or arr[0]+1 ! = arr[1]:\u001b[0m\n\u001b[0m                                 ^\u001b[0m\n\u001b[0;31mSyntaxError\u001b[0m\u001b[0;31m:\u001b[0m invalid syntax\n"
     ]
    }
   ],
   "source": [
    "for i in range(0,len(arr)):\n",
    "    res_arr = []\n",
    "    if len(arr)==1:\n",
    "        break\n",
    "    if arr[0]+1 == arr[1]:\n",
    "        temp_arr.append(arr[0])\n",
    "        temp_arr.append(arr[1])\n",
    "        arr.remove(arr[0])\n",
    "        for j in range(0,10):\n",
    "            if len(arr) == 1 or arr[0]+1 ! = arr[1]:\n",
    "                break\n",
    "            elif arr[0]+1 ==arr[1]:\n",
    "                temp_arr.append(arr[1])\n",
    "                arr.remove(arr[0])\n",
    "        res_arr.append(temp_arr)         \n",
    "    else:\n",
    "        arr.remove(arr[0])"
   ]
  },
  {
   "cell_type": "code",
   "execution_count": 7,
   "id": "5145643a",
   "metadata": {},
   "outputs": [
    {
     "ename": "NameError",
     "evalue": "name 'res_arr' is not defined",
     "output_type": "error",
     "traceback": [
      "\u001b[0;31m---------------------------------------------------------------------------\u001b[0m",
      "\u001b[0;31mNameError\u001b[0m                                 Traceback (most recent call last)",
      "Input \u001b[0;32mIn [7]\u001b[0m, in \u001b[0;36m<module>\u001b[0;34m\u001b[0m\n\u001b[0;32m----> 1\u001b[0m \u001b[38;5;28mprint\u001b[39m(\u001b[43mres_arr\u001b[49m)\n",
      "\u001b[0;31mNameError\u001b[0m: name 'res_arr' is not defined"
     ]
    }
   ],
   "source": [
    "print(res_arr)"
   ]
  },
  {
   "cell_type": "markdown",
   "id": "46074edb",
   "metadata": {},
   "source": [
    "#  Convert radians into degrees"
   ]
  },
  {
   "cell_type": "code",
   "execution_count": 9,
   "id": "ac70ff5c",
   "metadata": {},
   "outputs": [
    {
     "name": "stdout",
     "output_type": "stream",
     "text": [
      "180 / pi Degrees is equal to Radians : 1.0\n",
      "180 Degrees is equal to Radians : 3.141592653589793\n",
      "1 Degrees is equal to Radians : 0.017453292519943295\n"
     ]
    }
   ],
   "source": [
    "import math\n",
    " \n",
    "# Printing radians equivalents.\n",
    "print(\"180 / pi Degrees is equal to Radians : \", end =\"\")\n",
    "print (math.radians(180 / math.pi))\n",
    " \n",
    "print(\"180 Degrees is equal to Radians : \", end =\"\")\n",
    "print (math.radians(180))\n",
    " \n",
    "print(\"1 Degrees is equal to Radians : \", end =\"\")\n",
    "print (math.radians(1))"
   ]
  },
  {
   "cell_type": "code",
   "execution_count": 17,
   "id": "5bfa46ed",
   "metadata": {},
   "outputs": [
    {
     "name": "stdout",
     "output_type": "stream",
     "text": [
      "['asc', 'desc']\n"
     ]
    }
   ],
   "source": [
    "a = [\"asc\",\"desc\"]\n",
    "a.sort()\n",
    "print(a)"
   ]
  },
  {
   "cell_type": "code",
   "execution_count": 22,
   "id": "ae96763c",
   "metadata": {},
   "outputs": [
    {
     "name": "stdout",
     "output_type": "stream",
     "text": [
      "Enter any string: ana\n",
      "\n",
      "Removing vowels from the given string\n",
      "New string after successfully removed all the vowels:\n",
      "n\n"
     ]
    }
   ],
   "source": [
    "\n",
    "string = input(\"Enter any string: \")\n",
    "\n",
    "if string == 'x':\n",
    "\n",
    "     exit();\n",
    "\n",
    "else:\n",
    "\n",
    "     newstr = string;\n",
    "\n",
    "print(\"\\nRemoving vowels from the given string\");\n",
    "\n",
    "vowels = ('a', 'e', 'i', 'o', 'u');\n",
    "\n",
    "for x in string.lower():\n",
    "\n",
    "     if x in vowels:\n",
    "\n",
    "                newstr = newstr.replace(x,\"\");\n",
    "\n",
    "print(\"New string after successfully removed all the vowels:\");\n",
    "\n",
    "print(newstr);\n"
   ]
  },
  {
   "cell_type": "code",
   "execution_count": 29,
   "id": "89109563",
   "metadata": {},
   "outputs": [
    {
     "name": "stdout",
     "output_type": "stream",
     "text": [
      "Enter the character: a\n",
      "Vowel\n"
     ]
    }
   ],
   "source": [
    "l = input(\"Enter the character: \")\n",
    "\n",
    "if l.lower() in ('a', 'e', 'i', 'o', 'u'):\n",
    "\n",
    "      print(\"Vowel\")\n",
    "\n",
    "elif l.upper() in ('A', 'E', 'I', 'O', 'U'):\n",
    "\n",
    "      print(\"Vowel\")\n",
    "\n",
    "else:\n",
    "\n",
    "      print(\"Consonant\")\n"
   ]
  },
  {
   "cell_type": "code",
   "execution_count": 31,
   "id": "3f0cf1a0",
   "metadata": {},
   "outputs": [
    {
     "name": "stdout",
     "output_type": "stream",
     "text": [
      "**** **** **** 2365\n",
      "**** **** **** 9299\n",
      "**** ***& **** 9299\n",
      "**** **** **p* 9299\n"
     ]
    }
   ],
   "source": [
    "import re\n",
    "\n",
    "def mask_cc_number(cc_string, digits_to_keep=4, mask_char='*'):\n",
    "   cc_string_total = sum(map(str.isdigit, cc_string))\n",
    "\n",
    "   if digits_to_keep >= cc_string_total:\n",
    "       print(\"Not enough numbers. Add 10 or more numbers to the credit card number.\")\n",
    "\n",
    "   digits_to_mask = cc_string_total - digits_to_keep\n",
    "   masked_cc_string = re.sub('\\d', mask_char, cc_string, digits_to_mask)\n",
    "\n",
    "   return masked_cc_string\n",
    "\n",
    "print(mask_cc_number(\"4568 5689 5623 2365\"))\n",
    "print(mask_cc_number(\"4259 9826 4026 9299\")) \n",
    "print(mask_cc_number(\"4259 982& 4026 9299\"))\n",
    "print(mask_cc_number(\"4259 9826 40p6 9299\"))\n"
   ]
  },
  {
   "cell_type": "code",
   "execution_count": null,
   "id": "f8360ee7",
   "metadata": {},
   "outputs": [],
   "source": [
    "# Program make a simple calculator\n",
    "\n",
    "# This function adds two numbers\n",
    "def add(x, y):\n",
    "    return x + y\n",
    "\n",
    "# This function subtracts two numbers\n",
    "def subtract(x, y):\n",
    "    return x - y\n",
    "\n",
    "# This function multiplies two numbers\n",
    "def multiply(x, y):\n",
    "    return x * y\n",
    "\n",
    "# This function divides two numbers\n",
    "def divide(x, y):\n",
    "    return x / y\n",
    "\n",
    "\n",
    "print(\"Select operation.\")\n",
    "print(\"1.Add\")\n",
    "print(\"2.Subtract\")\n",
    "print(\"3.Multiply\")\n",
    "print(\"4.Divide\")\n",
    "\n",
    "while True:\n",
    "    # take input from the user\n",
    "    choice = input(\"Enter choice(1/2/3/4): \")\n",
    "\n",
    "    # check if choice is one of the four options\n",
    "    if choice in ('1', '2', '3', '4'):\n",
    "        num1 = float(input(\"Enter first number: \"))\n",
    "        num2 = float(input(\"Enter second number: \"))\n",
    "\n",
    "        if choice == '1':\n",
    "            print(num1, \"+\", num2, \"=\", add(num1, num2))\n",
    "\n",
    "        elif choice == '2':\n",
    "            print(num1, \"-\", num2, \"=\", subtract(num1, num2))\n",
    "\n",
    "        elif choice == '3':\n",
    "            print(num1, \"*\", num2, \"=\", multiply(num1, num2))\n",
    "\n",
    "        elif choice == '4':\n",
    "            print(num1, \"/\", num2, \"=\", divide(num1, num2))\n",
    "        \n",
    "        # check if user wants another calculation\n",
    "        # break the while loop if answer is no\n",
    "        next_calculation = input(\"Let's do next calculation? (yes/no): \")\n",
    "        if next_calculation == \"no\":\n",
    "          break\n",
    "    else:\n",
    "        print(\"Invalid Input\")"
   ]
  },
  {
   "cell_type": "code",
   "execution_count": 1,
   "id": "0ddf47be",
   "metadata": {},
   "outputs": [
    {
     "name": "stdout",
     "output_type": "stream",
     "text": [
      "Enter Sale Amount: 2000\n",
      "Discount :  100.0\n",
      "Net Pay  :  1900.0\n"
     ]
    }
   ],
   "source": [
    "# input sale amount\n",
    "amt = int(input(\"Enter Sale Amount: \"))\n",
    "\n",
    "# checking conditions and calculating discount\n",
    "if(amt>0):\n",
    "    if amt<=5000:\n",
    "       disc = amt*0.05\n",
    "    elif amt<=15000:\n",
    "        disc=amt*0.12\n",
    "    elif amt<=25000:\n",
    "        disc=0.2 * amt\n",
    "    else:\n",
    "         disc=0.3 * amt\n",
    "\n",
    "    print(\"Discount : \",disc)\n",
    "    print(\"Net Pay  : \",amt-disc)\n",
    "else:\n",
    "    print(\"Invalid Amount\")"
   ]
  },
  {
   "cell_type": "code",
   "execution_count": null,
   "id": "b22b80a0",
   "metadata": {},
   "outputs": [],
   "source": []
  }
 ],
 "metadata": {
  "kernelspec": {
   "display_name": "Python 3 (ipykernel)",
   "language": "python",
   "name": "python3"
  },
  "language_info": {
   "codemirror_mode": {
    "name": "ipython",
    "version": 3
   },
   "file_extension": ".py",
   "mimetype": "text/x-python",
   "name": "python",
   "nbconvert_exporter": "python",
   "pygments_lexer": "ipython3",
   "version": "3.9.7"
  }
 },
 "nbformat": 4,
 "nbformat_minor": 5
}
