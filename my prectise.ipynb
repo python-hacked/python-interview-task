{
 "cells": [
  {
   "cell_type": "code",
   "execution_count": 7,
   "id": "5a2f8588",
   "metadata": {},
   "outputs": [
    {
     "name": "stdout",
     "output_type": "stream",
     "text": [
      "Enteryour number:7\n",
      "7 this is odd number\n"
     ]
    }
   ],
   "source": [
    "numbers = int(input(\"Enteryour number:\"))\n",
    "if (numbers % 2)==0:\n",
    "    print(\"{0} this is even number\".format(numbers))\n",
    "else:\n",
    "    print(\"{0} this is odd number\".format(numbers))"
   ]
  },
  {
   "cell_type": "code",
   "execution_count": 15,
   "id": "16b1ffc9",
   "metadata": {},
   "outputs": [],
   "source": [
    "def remove(string):\n",
    "    return string.replace(\" \",\"\")\n",
    "string = \"hellow world\"\n"
   ]
  },
  {
   "cell_type": "code",
   "execution_count": 16,
   "id": "2ce314e6",
   "metadata": {},
   "outputs": [
    {
     "name": "stdout",
     "output_type": "stream",
     "text": [
      "hellowworld\n"
     ]
    }
   ],
   "source": [
    "print(remove(string))"
   ]
  },
  {
   "cell_type": "code",
   "execution_count": 19,
   "id": "d4519fb2",
   "metadata": {},
   "outputs": [],
   "source": [
    "def remove(string):\n",
    "    return\"\".join(string.split())\n",
    "string = \"my name is satish\""
   ]
  },
  {
   "cell_type": "code",
   "execution_count": 20,
   "id": "222892b0",
   "metadata": {},
   "outputs": [
    {
     "name": "stdout",
     "output_type": "stream",
     "text": [
      "mynameissatish\n"
     ]
    }
   ],
   "source": [
    "print(remove(string))"
   ]
  },
  {
   "cell_type": "code",
   "execution_count": 23,
   "id": "ba3607db",
   "metadata": {},
   "outputs": [],
   "source": [
    "def remove(duplicate):\n",
    "    final_list = []\n",
    "    for num in duplicate:\n",
    "        if not num in final_list:\n",
    "            final_list.append(num)\n",
    "    return final_list        \n",
    "            \n",
    "duplicate = [12,12,12,12,12,55]\n"
   ]
  },
  {
   "cell_type": "code",
   "execution_count": 24,
   "id": "9d207925",
   "metadata": {},
   "outputs": [
    {
     "name": "stdout",
     "output_type": "stream",
     "text": [
      "[12, 55]\n"
     ]
    }
   ],
   "source": [
    "print(remove(duplicate))"
   ]
  },
  {
   "cell_type": "code",
   "execution_count": 1,
   "id": "662aa0b6",
   "metadata": {},
   "outputs": [
    {
     "name": "stdout",
     "output_type": "stream",
     "text": [
      "Please, Enter the Lowest Range Value: 10\n",
      "Please, Enter the Upper Range Value: 20\n",
      "The prime Number in the range are:\n",
      "11\n",
      "13\n",
      "17\n",
      "19\n"
     ]
    }
   ],
   "source": [
    "lower_value = int(input (\"Please, Enter the Lowest Range Value: \"))  \n",
    "upper_value = int(input (\"Please, Enter the Upper Range Value: \"))  \n",
    "\n",
    "print(\"The prime Number in the range are:\")\n",
    "for number in range(lower_value,upper_value+1):\n",
    "    if number >1:\n",
    "        for i in range(2,number):\n",
    "            if (number % i)==0:\n",
    "                break\n",
    "        else:\n",
    "            print(number)\n",
    "    \n"
   ]
  },
  {
   "cell_type": "code",
   "execution_count": null,
   "id": "b61acd9d",
   "metadata": {},
   "outputs": [],
   "source": []
  }
 ],
 "metadata": {
  "kernelspec": {
   "display_name": "Python 3 (ipykernel)",
   "language": "python",
   "name": "python3"
  },
  "language_info": {
   "codemirror_mode": {
    "name": "ipython",
    "version": 3
   },
   "file_extension": ".py",
   "mimetype": "text/x-python",
   "name": "python",
   "nbconvert_exporter": "python",
   "pygments_lexer": "ipython3",
   "version": "3.9.7"
  }
 },
 "nbformat": 4,
 "nbformat_minor": 5
}
