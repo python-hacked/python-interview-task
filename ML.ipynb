{
 "cells": [
  {
   "cell_type": "code",
   "execution_count": 15,
   "id": "fdaedee7",
   "metadata": {},
   "outputs": [],
   "source": [
    "import os \n",
    "os.chdir('/home/satish/Downloads')"
   ]
  },
  {
   "cell_type": "code",
   "execution_count": 16,
   "id": "dd9aa20a",
   "metadata": {},
   "outputs": [
    {
     "data": {
      "text/plain": [
       "'/home/satish/Downloads'"
      ]
     },
     "execution_count": 16,
     "metadata": {},
     "output_type": "execute_result"
    }
   ],
   "source": [
    "os.getcwd()"
   ]
  },
  {
   "cell_type": "code",
   "execution_count": 17,
   "id": "017fd839",
   "metadata": {},
   "outputs": [],
   "source": [
    "import pandas as pd\n",
    "import numpy as np"
   ]
  },
  {
   "cell_type": "code",
   "execution_count": 18,
   "id": "1e783d1a",
   "metadata": {},
   "outputs": [],
   "source": [
    "dataset = pd.read_csv('editedsampledatainsurance.csv')"
   ]
  },
  {
   "cell_type": "code",
   "execution_count": 5,
   "id": "0a85be78",
   "metadata": {},
   "outputs": [
    {
     "data": {
      "text/html": [
       "<div>\n",
       "<style scoped>\n",
       "    .dataframe tbody tr th:only-of-type {\n",
       "        vertical-align: middle;\n",
       "    }\n",
       "\n",
       "    .dataframe tbody tr th {\n",
       "        vertical-align: top;\n",
       "    }\n",
       "\n",
       "    .dataframe thead th {\n",
       "        text-align: right;\n",
       "    }\n",
       "</style>\n",
       "<table border=\"1\" class=\"dataframe\">\n",
       "  <thead>\n",
       "    <tr style=\"text-align: right;\">\n",
       "      <th></th>\n",
       "      <th>id</th>\n",
       "      <th>Location</th>\n",
       "      <th>State</th>\n",
       "      <th>Region</th>\n",
       "      <th>InsuredValue</th>\n",
       "      <th>Construction</th>\n",
       "      <th>BusinessType</th>\n",
       "      <th>Earthquake</th>\n",
       "      <th>Flood</th>\n",
       "    </tr>\n",
       "  </thead>\n",
       "  <tbody>\n",
       "    <tr>\n",
       "      <th>0</th>\n",
       "      <td>100242</td>\n",
       "      <td>Urban</td>\n",
       "      <td>NY</td>\n",
       "      <td>East</td>\n",
       "      <td>1617630</td>\n",
       "      <td>Frame</td>\n",
       "      <td>Retail</td>\n",
       "      <td>N</td>\n",
       "      <td>N</td>\n",
       "    </tr>\n",
       "    <tr>\n",
       "      <th>1</th>\n",
       "      <td>100314</td>\n",
       "      <td>Urban</td>\n",
       "      <td>NY</td>\n",
       "      <td>East</td>\n",
       "      <td>8678500</td>\n",
       "      <td>Fire Resist</td>\n",
       "      <td>Apartment</td>\n",
       "      <td>Y</td>\n",
       "      <td>Y</td>\n",
       "    </tr>\n",
       "    <tr>\n",
       "      <th>2</th>\n",
       "      <td>100359</td>\n",
       "      <td>Rural</td>\n",
       "      <td>WI</td>\n",
       "      <td>Midwest</td>\n",
       "      <td>2052660</td>\n",
       "      <td>Frame</td>\n",
       "      <td>Farming</td>\n",
       "      <td>N</td>\n",
       "      <td>N</td>\n",
       "    </tr>\n",
       "    <tr>\n",
       "      <th>3</th>\n",
       "      <td>100315</td>\n",
       "      <td>Urban</td>\n",
       "      <td>NY</td>\n",
       "      <td>East</td>\n",
       "      <td>17580000</td>\n",
       "      <td>Frame</td>\n",
       "      <td>Apartment</td>\n",
       "      <td>Y</td>\n",
       "      <td>Y</td>\n",
       "    </tr>\n",
       "    <tr>\n",
       "      <th>4</th>\n",
       "      <td>100385</td>\n",
       "      <td>Urban</td>\n",
       "      <td>NY</td>\n",
       "      <td>East</td>\n",
       "      <td>1925000</td>\n",
       "      <td>Masonry</td>\n",
       "      <td>Hospitality</td>\n",
       "      <td>N</td>\n",
       "      <td>N</td>\n",
       "    </tr>\n",
       "    <tr>\n",
       "      <th>...</th>\n",
       "      <td>...</td>\n",
       "      <td>...</td>\n",
       "      <td>...</td>\n",
       "      <td>...</td>\n",
       "      <td>...</td>\n",
       "      <td>...</td>\n",
       "      <td>...</td>\n",
       "      <td>...</td>\n",
       "      <td>...</td>\n",
       "    </tr>\n",
       "    <tr>\n",
       "      <th>495</th>\n",
       "      <td>101121</td>\n",
       "      <td>Urban</td>\n",
       "      <td>VT</td>\n",
       "      <td>Northeast</td>\n",
       "      <td>4101750</td>\n",
       "      <td>Fire Resist</td>\n",
       "      <td>Office Bldg</td>\n",
       "      <td>Y</td>\n",
       "      <td>Y</td>\n",
       "    </tr>\n",
       "    <tr>\n",
       "      <th>496</th>\n",
       "      <td>101122</td>\n",
       "      <td>Urban</td>\n",
       "      <td>OH</td>\n",
       "      <td>Central</td>\n",
       "      <td>1739100</td>\n",
       "      <td>Frame</td>\n",
       "      <td>Apartment</td>\n",
       "      <td>N</td>\n",
       "      <td>N</td>\n",
       "    </tr>\n",
       "    <tr>\n",
       "      <th>497</th>\n",
       "      <td>101123</td>\n",
       "      <td>Urban</td>\n",
       "      <td>NY</td>\n",
       "      <td>East</td>\n",
       "      <td>2250000</td>\n",
       "      <td>Frame</td>\n",
       "      <td>Office Bldg</td>\n",
       "      <td>Y</td>\n",
       "      <td>Y</td>\n",
       "    </tr>\n",
       "    <tr>\n",
       "      <th>498</th>\n",
       "      <td>101125</td>\n",
       "      <td>Urban</td>\n",
       "      <td>NY</td>\n",
       "      <td>East</td>\n",
       "      <td>16482200</td>\n",
       "      <td>Frame</td>\n",
       "      <td>Office Bldg</td>\n",
       "      <td>Y</td>\n",
       "      <td>Y</td>\n",
       "    </tr>\n",
       "    <tr>\n",
       "      <th>499</th>\n",
       "      <td>101126</td>\n",
       "      <td>Urban</td>\n",
       "      <td>WI</td>\n",
       "      <td>Midwest</td>\n",
       "      <td>1776800</td>\n",
       "      <td>Frame</td>\n",
       "      <td>Farming</td>\n",
       "      <td>N</td>\n",
       "      <td>N</td>\n",
       "    </tr>\n",
       "  </tbody>\n",
       "</table>\n",
       "<p>500 rows × 9 columns</p>\n",
       "</div>"
      ],
      "text/plain": [
       "         id Location State     Region  InsuredValue Construction BusinessType  \\\n",
       "0    100242    Urban    NY       East       1617630        Frame       Retail   \n",
       "1    100314    Urban    NY       East       8678500  Fire Resist    Apartment   \n",
       "2    100359    Rural    WI    Midwest       2052660        Frame      Farming   \n",
       "3    100315    Urban    NY       East      17580000        Frame    Apartment   \n",
       "4    100385    Urban    NY       East       1925000      Masonry  Hospitality   \n",
       "..      ...      ...   ...        ...           ...          ...          ...   \n",
       "495  101121    Urban    VT  Northeast       4101750  Fire Resist  Office Bldg   \n",
       "496  101122    Urban    OH    Central       1739100        Frame    Apartment   \n",
       "497  101123    Urban    NY       East       2250000        Frame  Office Bldg   \n",
       "498  101125    Urban    NY       East      16482200        Frame  Office Bldg   \n",
       "499  101126    Urban    WI    Midwest       1776800        Frame      Farming   \n",
       "\n",
       "    Earthquake Flood  \n",
       "0            N     N  \n",
       "1            Y     Y  \n",
       "2            N     N  \n",
       "3            Y     Y  \n",
       "4            N     N  \n",
       "..         ...   ...  \n",
       "495          Y     Y  \n",
       "496          N     N  \n",
       "497          Y     Y  \n",
       "498          Y     Y  \n",
       "499          N     N  \n",
       "\n",
       "[500 rows x 9 columns]"
      ]
     },
     "execution_count": 5,
     "metadata": {},
     "output_type": "execute_result"
    }
   ],
   "source": [
    "dataset"
   ]
  },
  {
   "cell_type": "code",
   "execution_count": 6,
   "id": "1919897e",
   "metadata": {},
   "outputs": [],
   "source": [
    " x = dataset.iloc[:,4:8].values"
   ]
  },
  {
   "cell_type": "code",
   "execution_count": 7,
   "id": "2454c1dd",
   "metadata": {},
   "outputs": [],
   "source": [
    "y = dataset.iloc[:,3].values"
   ]
  },
  {
   "cell_type": "code",
   "execution_count": 8,
   "id": "e31951ff",
   "metadata": {},
   "outputs": [
    {
     "data": {
      "text/plain": [
       "array(['East', 'East', 'Midwest', 'East', 'East', 'Midwest', 'Midwest',\n",
       "       'East', 'East', 'East', 'East', 'East', 'Midwest', 'East',\n",
       "       'Midwest', 'East', 'Midwest', 'East', 'East', 'East', 'Northeast',\n",
       "       'Central', 'East', 'East', 'East', 'East', 'Midwest', 'East',\n",
       "       'East', 'Northeast', 'Midwest', 'East', 'Midwest', 'Midwest',\n",
       "       'Central', 'East', 'Midwest', 'East', 'East', 'East', 'East',\n",
       "       'East', 'East', 'East', 'East', 'Midwest', 'East', 'Midwest',\n",
       "       'East', 'Midwest', 'Midwest', 'East', 'East', 'East', 'Central',\n",
       "       'Central', 'East', 'Midwest', 'East', 'East', 'East', 'East',\n",
       "       'East', 'East', 'East', 'East', 'East', 'East', 'East', 'East',\n",
       "       'Midwest', 'East', 'Northeast', 'Midwest', 'East', 'East', 'East',\n",
       "       'East', 'East', 'East', 'Northeast', 'Midwest', 'East', 'East',\n",
       "       'East', 'East', 'East', 'East', 'East', 'Central', 'East', 'East',\n",
       "       'East', 'East', 'Midwest', 'East', 'East', 'Midwest', 'East',\n",
       "       'East', 'East', 'East', 'East', 'East', 'East', 'East', 'Midwest',\n",
       "       'East', 'Northeast', 'Northeast', 'East', 'East', 'East', 'East',\n",
       "       'East', 'East', 'East', 'East', 'Northeast', 'Northeast', 'East',\n",
       "       'Midwest', 'East', 'East', 'East', 'East', 'East', 'East',\n",
       "       'Midwest', 'Midwest', 'Northeast', 'East', 'East', 'East', 'East',\n",
       "       'East', 'Northeast', 'Midwest', 'East', 'East', 'East', 'Midwest',\n",
       "       'East', 'East', 'East', 'East', 'East', 'East', 'Midwest',\n",
       "       'Midwest', 'Central', 'East', 'Central', 'Midwest', 'East',\n",
       "       'Midwest', 'East', 'East', 'East', 'Midwest', 'East', 'East',\n",
       "       'East', 'East', 'East', 'East', 'Midwest', 'East', 'East',\n",
       "       'Midwest', 'Midwest', 'East', 'Midwest', 'Midwest', 'East', 'East',\n",
       "       'East', 'Midwest', 'East', 'Northeast', 'Midwest', 'East', 'East',\n",
       "       'East', 'East', 'East', 'East', 'East', 'Central', 'East', 'East',\n",
       "       'Northeast', 'East', 'Central', 'Northeast', 'East', 'East',\n",
       "       'East', 'East', 'Central', 'East', 'East', 'East', 'East',\n",
       "       'Central', 'East', 'East', 'East', 'Midwest', 'Midwest', 'East',\n",
       "       'East', 'Midwest', 'Midwest', 'Northeast', 'East', 'East', 'East',\n",
       "       'East', 'East', 'Northeast', 'East', 'Midwest', 'Central', 'East',\n",
       "       'Midwest', 'East', 'East', 'East', 'East', 'Midwest', 'Midwest',\n",
       "       'East', 'Midwest', 'East', 'Midwest', 'East', 'Central', 'Midwest',\n",
       "       'East', 'East', 'East', 'East', 'East', 'Northeast', 'East',\n",
       "       'East', 'Northeast', 'East', 'Midwest', 'Midwest', 'East',\n",
       "       'Midwest', 'East', 'Midwest', 'East', 'Midwest', 'East', 'Midwest',\n",
       "       'Northeast', 'Midwest', 'East', 'East', 'East', 'Midwest', 'East',\n",
       "       'Northeast', 'East', 'East', 'East', 'Midwest', 'Midwest',\n",
       "       'Midwest', 'East', 'Midwest', 'East', 'East', 'Midwest',\n",
       "       'Northeast', 'East', 'Midwest', 'East', 'East', 'East', 'East',\n",
       "       'Midwest', 'East', 'East', 'East', 'Northeast', 'East', 'East',\n",
       "       'East', 'East', 'Midwest', 'East', 'Midwest', 'East', 'Midwest',\n",
       "       'East', 'East', 'East', 'East', 'East', 'East', 'Midwest',\n",
       "       'Northeast', 'East', 'East', 'East', 'Central', 'East', 'Midwest',\n",
       "       'East', 'Midwest', 'East', 'Northeast', 'East', 'Northeast',\n",
       "       'East', 'East', 'East', 'East', 'Midwest', 'Midwest', 'Midwest',\n",
       "       'Midwest', 'East', 'East', 'East', 'East', 'East', 'Midwest',\n",
       "       'East', 'East', 'East', 'East', 'East', 'Midwest', 'Midwest',\n",
       "       'East', 'East', 'East', 'East', 'East', 'East', 'Midwest', 'East',\n",
       "       'Central', 'Midwest', 'East', 'East', 'Midwest', 'East', 'East',\n",
       "       'East', 'East', 'East', 'East', 'East', 'East', 'Central', 'East',\n",
       "       'East', 'Northeast', 'East', 'Midwest', 'East', 'East', 'East',\n",
       "       'East', 'East', 'East', 'Midwest', 'Central', 'East', 'East',\n",
       "       'Central', 'East', 'East', 'East', 'East', 'East', 'East', 'East',\n",
       "       'East', 'Midwest', 'Midwest', 'Central', 'East', 'East', 'East',\n",
       "       'Midwest', 'Midwest', 'Northeast', 'East', 'East', 'East', 'East',\n",
       "       'East', 'East', 'Midwest', 'Midwest', 'East', 'East', 'Midwest',\n",
       "       'East', 'East', 'East', 'East', 'Midwest', 'Midwest', 'East',\n",
       "       'Northeast', 'East', 'East', 'Midwest', 'Midwest', 'East', 'East',\n",
       "       'East', 'Northeast', 'East', 'East', 'East', 'East', 'Northeast',\n",
       "       'East', 'East', 'East', 'East', 'Midwest', 'East', 'Midwest',\n",
       "       'East', 'East', 'Midwest', 'East', 'East', 'East', 'East',\n",
       "       'Northeast', 'East', 'Midwest', 'East', 'East', 'East', 'East',\n",
       "       'East', 'East', 'East', 'East', 'East', 'East', 'East', 'Midwest',\n",
       "       'Midwest', 'East', 'East', 'Midwest', 'Midwest', 'East', 'East',\n",
       "       'East', 'East', 'East', 'Midwest', 'East', 'East', 'East', 'East',\n",
       "       'East', 'East', 'Northeast', 'East', 'Central', 'East', 'Midwest',\n",
       "       'East', 'East', 'East', 'Northeast', 'Midwest', 'East',\n",
       "       'Northeast', 'East', 'Midwest', 'East', 'East', 'Midwest', 'East',\n",
       "       'East', 'East', 'East', 'East', 'Northeast', 'Central', 'East',\n",
       "       'East', 'Midwest'], dtype=object)"
      ]
     },
     "execution_count": 8,
     "metadata": {},
     "output_type": "execute_result"
    }
   ],
   "source": [
    "y"
   ]
  },
  {
   "cell_type": "markdown",
   "id": "d2c4154f",
   "metadata": {},
   "source": [
    "encoding for string values to Int"
   ]
  },
  {
   "cell_type": "code",
   "execution_count": 9,
   "id": "6cc077b0",
   "metadata": {},
   "outputs": [],
   "source": [
    "from sklearn.preprocessing import LabelEncoder\n",
    "labelencoder_y = LabelEncoder()\n",
    "y = labelencoder_y.fit_transform(y)"
   ]
  },
  {
   "cell_type": "code",
   "execution_count": 10,
   "id": "a7c80548",
   "metadata": {},
   "outputs": [
    {
     "data": {
      "text/plain": [
       "array([1, 1, 2, 1, 1, 2, 2, 1, 1, 1, 1, 1, 2, 1, 2, 1, 2, 1, 1, 1, 3, 0,\n",
       "       1, 1, 1, 1, 2, 1, 1, 3, 2, 1, 2, 2, 0, 1, 2, 1, 1, 1, 1, 1, 1, 1,\n",
       "       1, 2, 1, 2, 1, 2, 2, 1, 1, 1, 0, 0, 1, 2, 1, 1, 1, 1, 1, 1, 1, 1,\n",
       "       1, 1, 1, 1, 2, 1, 3, 2, 1, 1, 1, 1, 1, 1, 3, 2, 1, 1, 1, 1, 1, 1,\n",
       "       1, 0, 1, 1, 1, 1, 2, 1, 1, 2, 1, 1, 1, 1, 1, 1, 1, 1, 2, 1, 3, 3,\n",
       "       1, 1, 1, 1, 1, 1, 1, 1, 3, 3, 1, 2, 1, 1, 1, 1, 1, 1, 2, 2, 3, 1,\n",
       "       1, 1, 1, 1, 3, 2, 1, 1, 1, 2, 1, 1, 1, 1, 1, 1, 2, 2, 0, 1, 0, 2,\n",
       "       1, 2, 1, 1, 1, 2, 1, 1, 1, 1, 1, 1, 2, 1, 1, 2, 2, 1, 2, 2, 1, 1,\n",
       "       1, 2, 1, 3, 2, 1, 1, 1, 1, 1, 1, 1, 0, 1, 1, 3, 1, 0, 3, 1, 1, 1,\n",
       "       1, 0, 1, 1, 1, 1, 0, 1, 1, 1, 2, 2, 1, 1, 2, 2, 3, 1, 1, 1, 1, 1,\n",
       "       3, 1, 2, 0, 1, 2, 1, 1, 1, 1, 2, 2, 1, 2, 1, 2, 1, 0, 2, 1, 1, 1,\n",
       "       1, 1, 3, 1, 1, 3, 1, 2, 2, 1, 2, 1, 2, 1, 2, 1, 2, 3, 2, 1, 1, 1,\n",
       "       2, 1, 3, 1, 1, 1, 2, 2, 2, 1, 2, 1, 1, 2, 3, 1, 2, 1, 1, 1, 1, 2,\n",
       "       1, 1, 1, 3, 1, 1, 1, 1, 2, 1, 2, 1, 2, 1, 1, 1, 1, 1, 1, 2, 3, 1,\n",
       "       1, 1, 0, 1, 2, 1, 2, 1, 3, 1, 3, 1, 1, 1, 1, 2, 2, 2, 2, 1, 1, 1,\n",
       "       1, 1, 2, 1, 1, 1, 1, 1, 2, 2, 1, 1, 1, 1, 1, 1, 2, 1, 0, 2, 1, 1,\n",
       "       2, 1, 1, 1, 1, 1, 1, 1, 1, 0, 1, 1, 3, 1, 2, 1, 1, 1, 1, 1, 1, 2,\n",
       "       0, 1, 1, 0, 1, 1, 1, 1, 1, 1, 1, 1, 2, 2, 0, 1, 1, 1, 2, 2, 3, 1,\n",
       "       1, 1, 1, 1, 1, 2, 2, 1, 1, 2, 1, 1, 1, 1, 2, 2, 1, 3, 1, 1, 2, 2,\n",
       "       1, 1, 1, 3, 1, 1, 1, 1, 3, 1, 1, 1, 1, 2, 1, 2, 1, 1, 2, 1, 1, 1,\n",
       "       1, 3, 1, 2, 1, 1, 1, 1, 1, 1, 1, 1, 1, 1, 1, 2, 2, 1, 1, 2, 2, 1,\n",
       "       1, 1, 1, 1, 2, 1, 1, 1, 1, 1, 1, 3, 1, 0, 1, 2, 1, 1, 1, 3, 2, 1,\n",
       "       3, 1, 2, 1, 1, 2, 1, 1, 1, 1, 1, 3, 0, 1, 1, 2])"
      ]
     },
     "execution_count": 10,
     "metadata": {},
     "output_type": "execute_result"
    }
   ],
   "source": [
    "y"
   ]
  },
  {
   "cell_type": "code",
   "execution_count": 11,
   "id": "ac46ecbd",
   "metadata": {},
   "outputs": [
    {
     "data": {
      "text/plain": [
       "array([[1617630, 'Frame', 'Retail', 'N'],\n",
       "       [8678500, 'Fire Resist', 'Apartment', 'Y'],\n",
       "       [2052660, 'Frame', 'Farming', 'N'],\n",
       "       ...,\n",
       "       [2250000, 'Frame', 'Office Bldg', 'Y'],\n",
       "       [16482200, 'Frame', 'Office Bldg', 'Y'],\n",
       "       [1776800, 'Frame', 'Farming', 'N']], dtype=object)"
      ]
     },
     "execution_count": 11,
     "metadata": {},
     "output_type": "execute_result"
    }
   ],
   "source": [
    "x"
   ]
  },
  {
   "cell_type": "code",
   "execution_count": 12,
   "id": "2ddc6cc7",
   "metadata": {},
   "outputs": [],
   "source": [
    "from sklearn.model_selection import train_test_split"
   ]
  },
  {
   "cell_type": "code",
   "execution_count": 13,
   "id": "2882b4d3",
   "metadata": {},
   "outputs": [],
   "source": [
    "x_train, x_test, y_train, y_test = train_test_split(x,y, test_size =0.2)"
   ]
  },
  {
   "cell_type": "code",
   "execution_count": 14,
   "id": "b5ada7f8",
   "metadata": {},
   "outputs": [
    {
     "ename": "ValueError",
     "evalue": "could not convert string to float: 'Masonry'",
     "output_type": "error",
     "traceback": [
      "\u001b[0;31m---------------------------------------------------------------------------\u001b[0m",
      "\u001b[0;31mValueError\u001b[0m                                Traceback (most recent call last)",
      "Input \u001b[0;32mIn [14]\u001b[0m, in \u001b[0;36m<module>\u001b[0;34m\u001b[0m\n\u001b[1;32m      1\u001b[0m \u001b[38;5;28;01mfrom\u001b[39;00m \u001b[38;5;21;01msklearn\u001b[39;00m\u001b[38;5;21;01m.\u001b[39;00m\u001b[38;5;21;01mlinear_model\u001b[39;00m \u001b[38;5;28;01mimport\u001b[39;00m LogisticRegression\n\u001b[1;32m      2\u001b[0m logmodel \u001b[38;5;241m=\u001b[39m LogisticRegression()\n\u001b[0;32m----> 3\u001b[0m \u001b[43mlogmodel\u001b[49m\u001b[38;5;241;43m.\u001b[39;49m\u001b[43mfit\u001b[49m\u001b[43m(\u001b[49m\u001b[43mx_train\u001b[49m\u001b[43m,\u001b[49m\u001b[43m \u001b[49m\u001b[43my_train\u001b[49m\u001b[43m)\u001b[49m\n",
      "File \u001b[0;32m~/.local/lib/python3.9/site-packages/sklearn/linear_model/_logistic.py:1508\u001b[0m, in \u001b[0;36mLogisticRegression.fit\u001b[0;34m(self, X, y, sample_weight)\u001b[0m\n\u001b[1;32m   1505\u001b[0m \u001b[38;5;28;01melse\u001b[39;00m:\n\u001b[1;32m   1506\u001b[0m     _dtype \u001b[38;5;241m=\u001b[39m [np\u001b[38;5;241m.\u001b[39mfloat64, np\u001b[38;5;241m.\u001b[39mfloat32]\n\u001b[0;32m-> 1508\u001b[0m X, y \u001b[38;5;241m=\u001b[39m \u001b[38;5;28;43mself\u001b[39;49m\u001b[38;5;241;43m.\u001b[39;49m\u001b[43m_validate_data\u001b[49m\u001b[43m(\u001b[49m\n\u001b[1;32m   1509\u001b[0m \u001b[43m    \u001b[49m\u001b[43mX\u001b[49m\u001b[43m,\u001b[49m\n\u001b[1;32m   1510\u001b[0m \u001b[43m    \u001b[49m\u001b[43my\u001b[49m\u001b[43m,\u001b[49m\n\u001b[1;32m   1511\u001b[0m \u001b[43m    \u001b[49m\u001b[43maccept_sparse\u001b[49m\u001b[38;5;241;43m=\u001b[39;49m\u001b[38;5;124;43m\"\u001b[39;49m\u001b[38;5;124;43mcsr\u001b[39;49m\u001b[38;5;124;43m\"\u001b[39;49m\u001b[43m,\u001b[49m\n\u001b[1;32m   1512\u001b[0m \u001b[43m    \u001b[49m\u001b[43mdtype\u001b[49m\u001b[38;5;241;43m=\u001b[39;49m\u001b[43m_dtype\u001b[49m\u001b[43m,\u001b[49m\n\u001b[1;32m   1513\u001b[0m \u001b[43m    \u001b[49m\u001b[43morder\u001b[49m\u001b[38;5;241;43m=\u001b[39;49m\u001b[38;5;124;43m\"\u001b[39;49m\u001b[38;5;124;43mC\u001b[39;49m\u001b[38;5;124;43m\"\u001b[39;49m\u001b[43m,\u001b[49m\n\u001b[1;32m   1514\u001b[0m \u001b[43m    \u001b[49m\u001b[43maccept_large_sparse\u001b[49m\u001b[38;5;241;43m=\u001b[39;49m\u001b[43msolver\u001b[49m\u001b[43m \u001b[49m\u001b[38;5;129;43;01mnot\u001b[39;49;00m\u001b[43m \u001b[49m\u001b[38;5;129;43;01min\u001b[39;49;00m\u001b[43m \u001b[49m\u001b[43m[\u001b[49m\u001b[38;5;124;43m\"\u001b[39;49m\u001b[38;5;124;43mliblinear\u001b[39;49m\u001b[38;5;124;43m\"\u001b[39;49m\u001b[43m,\u001b[49m\u001b[43m \u001b[49m\u001b[38;5;124;43m\"\u001b[39;49m\u001b[38;5;124;43msag\u001b[39;49m\u001b[38;5;124;43m\"\u001b[39;49m\u001b[43m,\u001b[49m\u001b[43m \u001b[49m\u001b[38;5;124;43m\"\u001b[39;49m\u001b[38;5;124;43msaga\u001b[39;49m\u001b[38;5;124;43m\"\u001b[39;49m\u001b[43m]\u001b[49m\u001b[43m,\u001b[49m\n\u001b[1;32m   1515\u001b[0m \u001b[43m\u001b[49m\u001b[43m)\u001b[49m\n\u001b[1;32m   1516\u001b[0m check_classification_targets(y)\n\u001b[1;32m   1517\u001b[0m \u001b[38;5;28mself\u001b[39m\u001b[38;5;241m.\u001b[39mclasses_ \u001b[38;5;241m=\u001b[39m np\u001b[38;5;241m.\u001b[39munique(y)\n",
      "File \u001b[0;32m~/.local/lib/python3.9/site-packages/sklearn/base.py:581\u001b[0m, in \u001b[0;36mBaseEstimator._validate_data\u001b[0;34m(self, X, y, reset, validate_separately, **check_params)\u001b[0m\n\u001b[1;32m    579\u001b[0m         y \u001b[38;5;241m=\u001b[39m check_array(y, \u001b[38;5;241m*\u001b[39m\u001b[38;5;241m*\u001b[39mcheck_y_params)\n\u001b[1;32m    580\u001b[0m     \u001b[38;5;28;01melse\u001b[39;00m:\n\u001b[0;32m--> 581\u001b[0m         X, y \u001b[38;5;241m=\u001b[39m \u001b[43mcheck_X_y\u001b[49m\u001b[43m(\u001b[49m\u001b[43mX\u001b[49m\u001b[43m,\u001b[49m\u001b[43m \u001b[49m\u001b[43my\u001b[49m\u001b[43m,\u001b[49m\u001b[43m \u001b[49m\u001b[38;5;241;43m*\u001b[39;49m\u001b[38;5;241;43m*\u001b[39;49m\u001b[43mcheck_params\u001b[49m\u001b[43m)\u001b[49m\n\u001b[1;32m    582\u001b[0m     out \u001b[38;5;241m=\u001b[39m X, y\n\u001b[1;32m    584\u001b[0m \u001b[38;5;28;01mif\u001b[39;00m \u001b[38;5;129;01mnot\u001b[39;00m no_val_X \u001b[38;5;129;01mand\u001b[39;00m check_params\u001b[38;5;241m.\u001b[39mget(\u001b[38;5;124m\"\u001b[39m\u001b[38;5;124mensure_2d\u001b[39m\u001b[38;5;124m\"\u001b[39m, \u001b[38;5;28;01mTrue\u001b[39;00m):\n",
      "File \u001b[0;32m~/.local/lib/python3.9/site-packages/sklearn/utils/validation.py:964\u001b[0m, in \u001b[0;36mcheck_X_y\u001b[0;34m(X, y, accept_sparse, accept_large_sparse, dtype, order, copy, force_all_finite, ensure_2d, allow_nd, multi_output, ensure_min_samples, ensure_min_features, y_numeric, estimator)\u001b[0m\n\u001b[1;32m    961\u001b[0m \u001b[38;5;28;01mif\u001b[39;00m y \u001b[38;5;129;01mis\u001b[39;00m \u001b[38;5;28;01mNone\u001b[39;00m:\n\u001b[1;32m    962\u001b[0m     \u001b[38;5;28;01mraise\u001b[39;00m \u001b[38;5;167;01mValueError\u001b[39;00m(\u001b[38;5;124m\"\u001b[39m\u001b[38;5;124my cannot be None\u001b[39m\u001b[38;5;124m\"\u001b[39m)\n\u001b[0;32m--> 964\u001b[0m X \u001b[38;5;241m=\u001b[39m \u001b[43mcheck_array\u001b[49m\u001b[43m(\u001b[49m\n\u001b[1;32m    965\u001b[0m \u001b[43m    \u001b[49m\u001b[43mX\u001b[49m\u001b[43m,\u001b[49m\n\u001b[1;32m    966\u001b[0m \u001b[43m    \u001b[49m\u001b[43maccept_sparse\u001b[49m\u001b[38;5;241;43m=\u001b[39;49m\u001b[43maccept_sparse\u001b[49m\u001b[43m,\u001b[49m\n\u001b[1;32m    967\u001b[0m \u001b[43m    \u001b[49m\u001b[43maccept_large_sparse\u001b[49m\u001b[38;5;241;43m=\u001b[39;49m\u001b[43maccept_large_sparse\u001b[49m\u001b[43m,\u001b[49m\n\u001b[1;32m    968\u001b[0m \u001b[43m    \u001b[49m\u001b[43mdtype\u001b[49m\u001b[38;5;241;43m=\u001b[39;49m\u001b[43mdtype\u001b[49m\u001b[43m,\u001b[49m\n\u001b[1;32m    969\u001b[0m \u001b[43m    \u001b[49m\u001b[43morder\u001b[49m\u001b[38;5;241;43m=\u001b[39;49m\u001b[43morder\u001b[49m\u001b[43m,\u001b[49m\n\u001b[1;32m    970\u001b[0m \u001b[43m    \u001b[49m\u001b[43mcopy\u001b[49m\u001b[38;5;241;43m=\u001b[39;49m\u001b[43mcopy\u001b[49m\u001b[43m,\u001b[49m\n\u001b[1;32m    971\u001b[0m \u001b[43m    \u001b[49m\u001b[43mforce_all_finite\u001b[49m\u001b[38;5;241;43m=\u001b[39;49m\u001b[43mforce_all_finite\u001b[49m\u001b[43m,\u001b[49m\n\u001b[1;32m    972\u001b[0m \u001b[43m    \u001b[49m\u001b[43mensure_2d\u001b[49m\u001b[38;5;241;43m=\u001b[39;49m\u001b[43mensure_2d\u001b[49m\u001b[43m,\u001b[49m\n\u001b[1;32m    973\u001b[0m \u001b[43m    \u001b[49m\u001b[43mallow_nd\u001b[49m\u001b[38;5;241;43m=\u001b[39;49m\u001b[43mallow_nd\u001b[49m\u001b[43m,\u001b[49m\n\u001b[1;32m    974\u001b[0m \u001b[43m    \u001b[49m\u001b[43mensure_min_samples\u001b[49m\u001b[38;5;241;43m=\u001b[39;49m\u001b[43mensure_min_samples\u001b[49m\u001b[43m,\u001b[49m\n\u001b[1;32m    975\u001b[0m \u001b[43m    \u001b[49m\u001b[43mensure_min_features\u001b[49m\u001b[38;5;241;43m=\u001b[39;49m\u001b[43mensure_min_features\u001b[49m\u001b[43m,\u001b[49m\n\u001b[1;32m    976\u001b[0m \u001b[43m    \u001b[49m\u001b[43mestimator\u001b[49m\u001b[38;5;241;43m=\u001b[39;49m\u001b[43mestimator\u001b[49m\u001b[43m,\u001b[49m\n\u001b[1;32m    977\u001b[0m \u001b[43m\u001b[49m\u001b[43m)\u001b[49m\n\u001b[1;32m    979\u001b[0m y \u001b[38;5;241m=\u001b[39m _check_y(y, multi_output\u001b[38;5;241m=\u001b[39mmulti_output, y_numeric\u001b[38;5;241m=\u001b[39my_numeric)\n\u001b[1;32m    981\u001b[0m check_consistent_length(X, y)\n",
      "File \u001b[0;32m~/.local/lib/python3.9/site-packages/sklearn/utils/validation.py:746\u001b[0m, in \u001b[0;36mcheck_array\u001b[0;34m(array, accept_sparse, accept_large_sparse, dtype, order, copy, force_all_finite, ensure_2d, allow_nd, ensure_min_samples, ensure_min_features, estimator)\u001b[0m\n\u001b[1;32m    744\u001b[0m         array \u001b[38;5;241m=\u001b[39m array\u001b[38;5;241m.\u001b[39mastype(dtype, casting\u001b[38;5;241m=\u001b[39m\u001b[38;5;124m\"\u001b[39m\u001b[38;5;124munsafe\u001b[39m\u001b[38;5;124m\"\u001b[39m, copy\u001b[38;5;241m=\u001b[39m\u001b[38;5;28;01mFalse\u001b[39;00m)\n\u001b[1;32m    745\u001b[0m     \u001b[38;5;28;01melse\u001b[39;00m:\n\u001b[0;32m--> 746\u001b[0m         array \u001b[38;5;241m=\u001b[39m \u001b[43mnp\u001b[49m\u001b[38;5;241;43m.\u001b[39;49m\u001b[43masarray\u001b[49m\u001b[43m(\u001b[49m\u001b[43marray\u001b[49m\u001b[43m,\u001b[49m\u001b[43m \u001b[49m\u001b[43morder\u001b[49m\u001b[38;5;241;43m=\u001b[39;49m\u001b[43morder\u001b[49m\u001b[43m,\u001b[49m\u001b[43m \u001b[49m\u001b[43mdtype\u001b[49m\u001b[38;5;241;43m=\u001b[39;49m\u001b[43mdtype\u001b[49m\u001b[43m)\u001b[49m\n\u001b[1;32m    747\u001b[0m \u001b[38;5;28;01mexcept\u001b[39;00m ComplexWarning \u001b[38;5;28;01mas\u001b[39;00m complex_warning:\n\u001b[1;32m    748\u001b[0m     \u001b[38;5;28;01mraise\u001b[39;00m \u001b[38;5;167;01mValueError\u001b[39;00m(\n\u001b[1;32m    749\u001b[0m         \u001b[38;5;124m\"\u001b[39m\u001b[38;5;124mComplex data not supported\u001b[39m\u001b[38;5;130;01m\\n\u001b[39;00m\u001b[38;5;132;01m{}\u001b[39;00m\u001b[38;5;130;01m\\n\u001b[39;00m\u001b[38;5;124m\"\u001b[39m\u001b[38;5;241m.\u001b[39mformat(array)\n\u001b[1;32m    750\u001b[0m     ) \u001b[38;5;28;01mfrom\u001b[39;00m \u001b[38;5;21;01mcomplex_warning\u001b[39;00m\n",
      "\u001b[0;31mValueError\u001b[0m: could not convert string to float: 'Masonry'"
     ]
    }
   ],
   "source": [
    "from sklearn.linear_model import LogisticRegression\n",
    "logmodel = LogisticRegression()\n",
    "logmodel.fit(x_train, y_train)"
   ]
  },
  {
   "cell_type": "code",
   "execution_count": null,
   "id": "6b7b22f8",
   "metadata": {},
   "outputs": [],
   "source": []
  },
  {
   "cell_type": "code",
   "execution_count": null,
   "id": "887c3479",
   "metadata": {},
   "outputs": [],
   "source": []
  }
 ],
 "metadata": {
  "kernelspec": {
   "display_name": "Python 3 (ipykernel)",
   "language": "python",
   "name": "python3"
  },
  "language_info": {
   "codemirror_mode": {
    "name": "ipython",
    "version": 3
   },
   "file_extension": ".py",
   "mimetype": "text/x-python",
   "name": "python",
   "nbconvert_exporter": "python",
   "pygments_lexer": "ipython3",
   "version": "3.9.7"
  }
 },
 "nbformat": 4,
 "nbformat_minor": 5
}
