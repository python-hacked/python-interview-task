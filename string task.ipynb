{
 "cells": [
  {
   "cell_type": "markdown",
   "id": "b1fe5f92",
   "metadata": {},
   "source": [
    "Write a Python program to calculate the length of a string."
   ]
  },
  {
   "cell_type": "code",
   "execution_count": null,
   "id": "67c532f2",
   "metadata": {},
   "outputs": [],
   "source": [
    "str = input(\"Enter a string\")\n",
    "counter = 0\n",
    "for s in str:\n",
    "    counter = counter+1\n",
    "print(\"Length of the input string is:\", counter)"
   ]
  },
  {
   "cell_type": "code",
   "execution_count": 6,
   "id": "a4a9ac14",
   "metadata": {},
   "outputs": [
    {
     "name": "stdout",
     "output_type": "stream",
     "text": [
      "Enter your stringHellow World\n",
      "Lenth of your string: 12\n"
     ]
    }
   ],
   "source": [
    "str = input(\"Enter your string\")\n",
    "print(\"Lenth of your string:\",len(str))"
   ]
  },
  {
   "cell_type": "markdown",
   "id": "e6135509",
   "metadata": {},
   "source": [
    "Write a Python program to count the number of characters (character frequency) in a string"
   ]
  },
  {
   "cell_type": "code",
   "execution_count": 8,
   "id": "c825c4c5",
   "metadata": {},
   "outputs": [
    {
     "name": "stdout",
     "output_type": "stream",
     "text": [
      "{'g': 2, 'o': 3, 'l': 1, 'e': 1, '.': 1, 'c': 1, 'm': 1}\n"
     ]
    }
   ],
   "source": [
    "def char_frequency(str):\n",
    "    dict = {}\n",
    "    for n in str:\n",
    "        keys = dict.keys()\n",
    "        if n in keys:\n",
    "            dict[n]+=1\n",
    "        else:\n",
    "            dict[n]=1\n",
    "    return dict\n",
    "print(char_frequency(\"google.com\"))"
   ]
  },
  {
   "cell_type": "code",
   "execution_count": 10,
   "id": "641d2d7f",
   "metadata": {},
   "outputs": [
    {
     "name": "stdout",
     "output_type": "stream",
     "text": [
      "resta$t\n"
     ]
    }
   ],
   "source": [
    "def change_char(str):\n",
    "    char = str[0]\n",
    "    str = str.replace(char,'$')\n",
    "    str = char+str[1:]\n",
    "    return str\n",
    "print(change_char(\"restart\"))"
   ]
  },
  {
   "cell_type": "markdown",
   "id": "89891278",
   "metadata": {},
   "source": [
    "Write a Python program to get a single string from two given strings, separated by a space and swap the first two characters of each string."
   ]
  },
  {
   "cell_type": "code",
   "execution_count": 3,
   "id": "878aafd7",
   "metadata": {},
   "outputs": [],
   "source": [
    "def chars_mix_up(a,b):\n",
    "    new_a = a[:2]+a[2:]\n",
    "    new_b = b"
   ]
  },
  {
   "cell_type": "code",
   "execution_count": 4,
   "id": "e217212c",
   "metadata": {},
   "outputs": [
    {
     "name": "stdout",
     "output_type": "stream",
     "text": [
      "<function chars_mix_up at 0x7fe1b58d23a0>\n"
     ]
    }
   ],
   "source": [
    "print(chars_mix_up)"
   ]
  },
  {
   "cell_type": "code",
   "execution_count": null,
   "id": "441adc57",
   "metadata": {},
   "outputs": [],
   "source": []
  }
 ],
 "metadata": {
  "kernelspec": {
   "display_name": "Python 3 (ipykernel)",
   "language": "python",
   "name": "python3"
  },
  "language_info": {
   "codemirror_mode": {
    "name": "ipython",
    "version": 3
   },
   "file_extension": ".py",
   "mimetype": "text/x-python",
   "name": "python",
   "nbconvert_exporter": "python",
   "pygments_lexer": "ipython3",
   "version": "3.9.7"
  }
 },
 "nbformat": 4,
 "nbformat_minor": 5
}
